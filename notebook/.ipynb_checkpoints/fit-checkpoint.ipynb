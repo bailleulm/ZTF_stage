{
 "cells": [
  {
   "cell_type": "code",
   "execution_count": 1,
   "id": "99466cb9",
   "metadata": {},
   "outputs": [],
   "source": [
    "import sys\n",
    "sys.path.append(\"/Users/manon/ztf_stage/python\") #directory to your python class\n",
    "sys.path.append(\"/Users/manon/ztf_stage/script\") #directory to your python script\n",
    "sys.path.append(\"/Users/manon/ztf_stage/csv\") #directory to your csv file\n",
    "sys.path.append(\"/Users/manon/ZTF/data\") #directory to your data (from simsurvey)\n",
    "sys.path.append(\"/Users/manon/ZTF\") #directory to simsurvey_tools.py"
   ]
  },
  {
   "cell_type": "code",
   "execution_count": 2,
   "id": "05576a31",
   "metadata": {},
   "outputs": [],
   "source": [
    "from ztf_hdf5 import Write_LightCurve, Read_LightCurve, Plot_LightCurve\n",
    "from ztf_fit import SN_fit, SN_fit_tab\n",
    "from astropy.table import QTable, Table, Column, vstack\n",
    "import astropy\n",
    "import os"
   ]
  },
  {
   "cell_type": "code",
   "execution_count": 3,
   "id": "93ad9f8f",
   "metadata": {
    "scrolled": true
   },
   "outputs": [
    {
     "data": {
      "text/html": [
       "<div><i>Table length=398</i>\n",
       "<table id=\"table140592372018240\" class=\"table-striped table-bordered table-condensed\">\n",
       "<thead><tr><th>z</th><th>t0</th><th>x0</th><th>x1</th><th>c</th><th>ra</th><th>dec</th><th>mwebv</th><th>mwebv_sfd98</th><th>idx_orig</th><th>path</th><th>nb_phase&lt;0</th><th>nb_phase&gt;0</th><th>nb_phase&lt;-10</th><th>nb_phase&gt;20</th><th>nb_band_ztfr</th><th>nb_band_ztfg</th><th>nb_band_ztfi</th><th>pass selec</th></tr></thead>\n",
       "<thead><tr><th>float64</th><th>float64</th><th>float64</th><th>float64</th><th>float64</th><th>float64</th><th>float64</th><th>float64</th><th>float64</th><th>int64</th><th>str6</th><th>int64</th><th>int64</th><th>int64</th><th>int64</th><th>int64</th><th>int64</th><th>int64</th><th>int64</th></tr></thead>\n",
       "<tr><td>0.09746273114426751</td><td>58434.321856282484</td><td>0.00025622912210447927</td><td>1.1046511562757628</td><td>0.12554520416071865</td><td>22.828011094898912</td><td>-27.278724932110467</td><td>0.00822241741789478</td><td>0.013545175944514402</td><td>0</td><td>SN_0</td><td>3</td><td>3</td><td>0</td><td>0</td><td>3</td><td>3</td><td>0</td><td>0</td></tr>\n",
       "<tr><td>0.09545085017442173</td><td>58449.84672495065</td><td>0.0005428088482511581</td><td>1.0716812292288245</td><td>0.004731065214367997</td><td>252.46818318515082</td><td>24.618750800683127</td><td>0.06068849700038502</td><td>0.07029531300877292</td><td>1</td><td>SN_1</td><td>0</td><td>4</td><td>0</td><td>4</td><td>4</td><td>0</td><td>0</td><td>0</td></tr>\n",
       "<tr><td>0.08329532832943781</td><td>58242.045208409225</td><td>0.0007019810069605971</td><td>0.8569193952284069</td><td>-0.08999330185228417</td><td>324.66737006744665</td><td>-20.91470996034135</td><td>0.023147505400073702</td><td>0.03373758774262354</td><td>2</td><td>SN_2</td><td>0</td><td>2</td><td>0</td><td>2</td><td>2</td><td>0</td><td>0</td><td>0</td></tr>\n",
       "<tr><td>0.09665627314283415</td><td>58179.74313249251</td><td>0.000323846066201955</td><td>1.6151007621854452</td><td>0.10545867855393994</td><td>317.1296594970459</td><td>3.1952355182320824</td><td>0.08839125376002056</td><td>0.07930972509605132</td><td>3</td><td>SN_3</td><td>0</td><td>1</td><td>0</td><td>1</td><td>1</td><td>0</td><td>0</td><td>0</td></tr>\n",
       "<tr><td>0.06768985090609805</td><td>58285.001010193184</td><td>0.0010558214069944442</td><td>0.761442398194408</td><td>-0.041741808972983414</td><td>146.61140349772612</td><td>57.62705681328637</td><td>0.0229468294693351</td><td>0.009430040043588224</td><td>4</td><td>SN_4</td><td>19</td><td>3</td><td>5</td><td>0</td><td>7</td><td>15</td><td>0</td><td>0</td></tr>\n",
       "<tr><td>0.052395678566137256</td><td>58440.57795955294</td><td>0.0018993318650067294</td><td>-0.38326313978502813</td><td>-0.09930382395904663</td><td>246.34464917804738</td><td>48.52063894170768</td><td>0.012631549940301221</td><td>0.010400986750125706</td><td>5</td><td>SN_5</td><td>1</td><td>3</td><td>1</td><td>3</td><td>3</td><td>1</td><td>0</td><td>0</td></tr>\n",
       "<tr><td>0.09496615230696706</td><td>58404.34855619604</td><td>0.0004519889058892245</td><td>-0.7184987661000573</td><td>-0.0297935098596368</td><td>221.16147720572545</td><td>51.52892406083317</td><td>0.021122669905564002</td><td>0.019184740450733852</td><td>6</td><td>SN_6</td><td>0</td><td>0</td><td>0</td><td>0</td><td>0</td><td>0</td><td>0</td><td>0</td></tr>\n",
       "<tr><td>0.07527202479792483</td><td>58262.54028992818</td><td>0.0007357072837832682</td><td>0.4285095665095345</td><td>0.03939906513699044</td><td>252.93766065495151</td><td>41.2608040233519</td><td>0.024363606919234365</td><td>0.015750682949580336</td><td>7</td><td>SN_7</td><td>54</td><td>270</td><td>18</td><td>167</td><td>185</td><td>128</td><td>11</td><td>1</td></tr>\n",
       "<tr><td>0.07864194667329098</td><td>58400.65091764231</td><td>0.0004885173897171661</td><td>-0.717170351329179</td><td>0.0831828909701888</td><td>86.96227675234796</td><td>35.88777992303738</td><td>0.5577706826288306</td><td>0.5424744768007623</td><td>8</td><td>SN_8</td><td>2</td><td>7</td><td>0</td><td>7</td><td>8</td><td>1</td><td>0</td><td>0</td></tr>\n",
       "<tr><td>0.07636610797218073</td><td>58282.01143462065</td><td>0.0004830939874074456</td><td>-1.1561518485460804</td><td>0.0657870770600679</td><td>321.2420532342666</td><td>16.834391535647732</td><td>0.06984346173163536</td><td>0.08094514554577627</td><td>9</td><td>SN_9</td><td>31</td><td>25</td><td>5</td><td>12</td><td>30</td><td>24</td><td>2</td><td>1</td></tr>\n",
       "<tr><td>0.06719229280005781</td><td>58318.941987158934</td><td>0.0009762864120534194</td><td>0.4958126705612992</td><td>-0.05579069492863371</td><td>196.25981716702626</td><td>23.212589810641983</td><td>0.0017466915496105288</td><td>0.012809111088859399</td><td>13</td><td>SN_10</td><td>4</td><td>4</td><td>4</td><td>0</td><td>4</td><td>4</td><td>0</td><td>0</td></tr>\n",
       "<tr><td>0.034939255536784584</td><td>58396.281443945525</td><td>0.003887034248211899</td><td>1.1546554206123651</td><td>-0.057330689420548475</td><td>191.39920342946593</td><td>27.37900916002941</td><td>0.009831536980687764</td><td>0.011299149161832226</td><td>14</td><td>SN_11</td><td>0</td><td>13</td><td>0</td><td>13</td><td>6</td><td>7</td><td>0</td><td>0</td></tr>\n",
       "<tr><td>0.05647814437682584</td><td>58257.17361350978</td><td>0.0018158013482646564</td><td>-0.975037864546135</td><td>-0.15857350731420297</td><td>322.92561963473366</td><td>0.8155242633423688</td><td>0.04158975903847518</td><td>0.05280088470002327</td><td>16</td><td>SN_12</td><td>5</td><td>46</td><td>2</td><td>33</td><td>23</td><td>21</td><td>7</td><td>1</td></tr>\n",
       "<tr><td>0.05704765622053076</td><td>58368.8558056228</td><td>0.0017825531713776771</td><td>1.2063338763834823</td><td>-0.09622008265151959</td><td>28.27907370615323</td><td>20.491048785879997</td><td>0.05584590455413493</td><td>0.06776404315085827</td><td>17</td><td>SN_13</td><td>53</td><td>61</td><td>26</td><td>6</td><td>63</td><td>48</td><td>3</td><td>1</td></tr>\n",
       "<tr><td>0.06697638013022884</td><td>58432.00611799869</td><td>0.001333785778576615</td><td>0.43864839481653206</td><td>-0.09707554701216943</td><td>198.34992417196358</td><td>-20.58332709808875</td><td>0.08225732074371571</td><td>0.08184173550910845</td><td>20</td><td>SN_14</td><td>0</td><td>6</td><td>0</td><td>6</td><td>5</td><td>1</td><td>0</td><td>0</td></tr>\n",
       "<tr><td>0.09924158873036648</td><td>58237.51097948071</td><td>0.0002880869549254076</td><td>-1.0241882545466015</td><td>0.036055432257142285</td><td>75.18115692760475</td><td>32.373706710558324</td><td>0.7745127534765205</td><td>0.7800678351557045</td><td>23</td><td>SN_15</td><td>0</td><td>0</td><td>0</td><td>0</td><td>0</td><td>0</td><td>0</td><td>0</td></tr>\n",
       "<tr><td>0.09219572727853108</td><td>58293.477323718296</td><td>0.000533110264578684</td><td>-0.1423695702504303</td><td>-0.09487329873331724</td><td>65.66602772565906</td><td>-1.4203444512841648</td><td>0.07552400561761434</td><td>0.0874076775290225</td><td>26</td><td>SN_16</td><td>0</td><td>3</td><td>0</td><td>3</td><td>3</td><td>0</td><td>0</td><td>0</td></tr>\n",
       "<tr><td>0.08745401984968042</td><td>58189.274203718385</td><td>0.000603120179497916</td><td>-0.4189755921182254</td><td>-0.1361242820074844</td><td>147.91520960626283</td><td>49.74351191297503</td><td>0.028203367238278286</td><td>0.008454561245765645</td><td>27</td><td>SN_17</td><td>0</td><td>2</td><td>0</td><td>0</td><td>0</td><td>2</td><td>0</td><td>0</td></tr>\n",
       "<tr><td>0.0696175414329167</td><td>58352.30377607982</td><td>0.0006998440570666008</td><td>-1.368234524286479</td><td>-0.0069939723454779425</td><td>279.7298785210357</td><td>-7.688145914507332</td><td>4.574977117406586</td><td>4.5767679539725705</td><td>28</td><td>SN_18</td><td>0</td><td>0</td><td>0</td><td>0</td><td>0</td><td>0</td><td>0</td><td>0</td></tr>\n",
       "<tr><td>0.0694164026092382</td><td>58495.892287140516</td><td>0.0004391971997558446</td><td>-0.8550486890000643</td><td>0.15600756365425983</td><td>185.88516473156724</td><td>39.479065485849034</td><td>0.019843521225708666</td><td>0.022955703946850627</td><td>29</td><td>SN_19</td><td>1</td><td>0</td><td>1</td><td>0</td><td>0</td><td>1</td><td>0</td><td>0</td></tr>\n",
       "<tr><td>...</td><td>...</td><td>...</td><td>...</td><td>...</td><td>...</td><td>...</td><td>...</td><td>...</td><td>...</td><td>...</td><td>...</td><td>...</td><td>...</td><td>...</td><td>...</td><td>...</td><td>...</td><td>...</td></tr>\n",
       "<tr><td>0.07136242783320561</td><td>58510.98892255322</td><td>0.0011026473908375097</td><td>1.6536384268412239</td><td>-0.06272898096046832</td><td>139.71711594051155</td><td>67.97961294949229</td><td>0.056320410973336135</td><td>0.06323069451567645</td><td>67</td><td>bad_4</td><td>-1</td><td>-1</td><td>-1</td><td>-1</td><td>-1</td><td>-1</td><td>-1</td><td>0</td></tr>\n",
       "<tr><td>0.07014094123068594</td><td>58280.244622531296</td><td>0.00040335206182378545</td><td>-0.9030178770054623</td><td>0.1797150271211661</td><td>127.28250726584689</td><td>8.742707599467348</td><td>0.03431930381511931</td><td>0.02377658458968415</td><td>111</td><td>bad_5</td><td>-1</td><td>-1</td><td>-1</td><td>-1</td><td>-1</td><td>-1</td><td>-1</td><td>0</td></tr>\n",
       "<tr><td>0.0917091036094538</td><td>58451.56980362866</td><td>0.0005884340930662071</td><td>-0.3140981489118545</td><td>-0.11199317968062027</td><td>309.8407332921086</td><td>-21.798777125388085</td><td>0.05311669499062987</td><td>0.03604498342282914</td><td>132</td><td>bad_6</td><td>-1</td><td>-1</td><td>-1</td><td>-1</td><td>-1</td><td>-1</td><td>-1</td><td>0</td></tr>\n",
       "<tr><td>0.07643022348078693</td><td>58511.15375318513</td><td>0.001064179083036433</td><td>1.0698535273916405</td><td>-0.12175201740981463</td><td>233.06067162168432</td><td>31.91192110343905</td><td>0.031040811408070128</td><td>0.022156681243982727</td><td>140</td><td>bad_7</td><td>-1</td><td>-1</td><td>-1</td><td>-1</td><td>-1</td><td>-1</td><td>-1</td><td>0</td></tr>\n",
       "<tr><td>0.0981396432170374</td><td>58312.51786917714</td><td>0.00019223687050469763</td><td>-0.44111408912548344</td><td>0.228109000421453</td><td>73.9323917676331</td><td>37.04044445577502</td><td>0.8842480002730678</td><td>0.8748967537531653</td><td>144</td><td>bad_8</td><td>-1</td><td>-1</td><td>-1</td><td>-1</td><td>-1</td><td>-1</td><td>-1</td><td>0</td></tr>\n",
       "<tr><td>0.06853345398738599</td><td>58487.25534347333</td><td>0.0006395039239427869</td><td>-3.128265128417597</td><td>-0.06735624828953862</td><td>272.6509664483624</td><td>40.92922128327339</td><td>0.06677413597628813</td><td>0.05355700598879085</td><td>239</td><td>bad_9</td><td>-1</td><td>-1</td><td>-1</td><td>-1</td><td>-1</td><td>-1</td><td>-1</td><td>0</td></tr>\n",
       "<tr><td>0.08043603426013846</td><td>58481.849046823074</td><td>0.0004851087018811351</td><td>-0.9426615511559366</td><td>0.08032464617030023</td><td>298.0148430212199</td><td>-15.926942127715542</td><td>0.18990178490457815</td><td>0.18045500440891216</td><td>246</td><td>bad_10</td><td>-1</td><td>-1</td><td>-1</td><td>-1</td><td>-1</td><td>-1</td><td>-1</td><td>0</td></tr>\n",
       "<tr><td>0.09862951083733154</td><td>58192.183639703966</td><td>0.00018729435938656373</td><td>0.7163808096462527</td><td>0.26386926761062135</td><td>51.3921753306547</td><td>41.05319639795696</td><td>0.18735819205953028</td><td>0.1801612518489221</td><td>280</td><td>bad_11</td><td>-1</td><td>-1</td><td>-1</td><td>-1</td><td>-1</td><td>-1</td><td>-1</td><td>0</td></tr>\n",
       "<tr><td>0.03397751328381627</td><td>58502.6530036212</td><td>0.0013417709126452542</td><td>-1.1049120335350333</td><td>0.2256495572662326</td><td>139.8618378105103</td><td>-17.1484050725584</td><td>0.03095823870234487</td><td>0.03780209720924384</td><td>331</td><td>bad_12</td><td>-1</td><td>-1</td><td>-1</td><td>-1</td><td>-1</td><td>-1</td><td>-1</td><td>0</td></tr>\n",
       "<tr><td>0.0914949915177106</td><td>58501.579971650164</td><td>0.0003543689849107352</td><td>0.7984833995787047</td><td>0.11846755919896804</td><td>82.78130329670338</td><td>-2.2409141927072613</td><td>0.46430549385317427</td><td>0.4454935830872282</td><td>351</td><td>bad_13</td><td>-1</td><td>-1</td><td>-1</td><td>-1</td><td>-1</td><td>-1</td><td>-1</td><td>0</td></tr>\n",
       "<tr><td>0.09358600212445542</td><td>58222.64479041944</td><td>0.000339803387702402</td><td>-0.8623117095242407</td><td>-0.0002672328800398791</td><td>55.977062010311656</td><td>5.706635244694175</td><td>0.20518478227671955</td><td>0.20128443228050455</td><td>361</td><td>bad_14</td><td>-1</td><td>-1</td><td>-1</td><td>-1</td><td>-1</td><td>-1</td><td>-1</td><td>0</td></tr>\n",
       "<tr><td>0.09165264361725992</td><td>58504.091710112945</td><td>0.0006508080048440881</td><td>2.232666219920035</td><td>-0.07861893252005636</td><td>167.16415579037528</td><td>-25.338630426254287</td><td>0.05229762668238931</td><td>0.06362841694714852</td><td>369</td><td>bad_15</td><td>-1</td><td>-1</td><td>-1</td><td>-1</td><td>-1</td><td>-1</td><td>-1</td><td>0</td></tr>\n",
       "<tr><td>0.09349713373287187</td><td>58471.63816120698</td><td>0.00038529000534350135</td><td>-0.8965074275329433</td><td>0.0038186754229610625</td><td>286.9993651033757</td><td>-1.6378883247744462</td><td>0.500675810783382</td><td>0.4942777373212952</td><td>379</td><td>bad_16</td><td>-1</td><td>-1</td><td>-1</td><td>-1</td><td>-1</td><td>-1</td><td>-1</td><td>0</td></tr>\n",
       "<tr><td>0.04993225740394547</td><td>58357.09787349076</td><td>0.0010159570979562942</td><td>-1.466861326693616</td><td>0.14208309269364744</td><td>95.81687431401863</td><td>2.6888107626577766</td><td>0.7118915103421201</td><td>0.7051816702211058</td><td>385</td><td>bad_17</td><td>-1</td><td>-1</td><td>-1</td><td>-1</td><td>-1</td><td>-1</td><td>-1</td><td>0</td></tr>\n",
       "<tr><td>0.06157526788478131</td><td>58312.60632104832</td><td>0.0009226769888808455</td><td>0.6876278518616874</td><td>0.07996481147508226</td><td>154.03933046669587</td><td>27.753511667451935</td><td>0.019634104786075156</td><td>0.02835466539107632</td><td>397</td><td>bad_18</td><td>-1</td><td>-1</td><td>-1</td><td>-1</td><td>-1</td><td>-1</td><td>-1</td><td>0</td></tr>\n",
       "<tr><td>0.06537629030073816</td><td>58333.69052731417</td><td>0.0009908506346541113</td><td>-0.20900574574223565</td><td>-0.04295475587932479</td><td>183.1984642432647</td><td>10.21171958062694</td><td>0.027136140468380792</td><td>0.01783566758109677</td><td>412</td><td>bad_19</td><td>-1</td><td>-1</td><td>-1</td><td>-1</td><td>-1</td><td>-1</td><td>-1</td><td>0</td></tr>\n",
       "<tr><td>0.07063923096832568</td><td>58223.35753542243</td><td>0.0005638387494870239</td><td>0.4648121569034445</td><td>0.11731097303480734</td><td>91.98995535168025</td><td>-8.74202870499698</td><td>0.5014267159561145</td><td>0.4881146291464087</td><td>425</td><td>bad_20</td><td>-1</td><td>-1</td><td>-1</td><td>-1</td><td>-1</td><td>-1</td><td>-1</td><td>0</td></tr>\n",
       "<tr><td>0.07758254414907863</td><td>58475.76163290115</td><td>0.001014500798851094</td><td>1.5221263241648855</td><td>-0.07206024091247416</td><td>73.83442278817368</td><td>-4.777419629663448</td><td>0.04191525517604883</td><td>0.035252753796586586</td><td>447</td><td>bad_21</td><td>-1</td><td>-1</td><td>-1</td><td>-1</td><td>-1</td><td>-1</td><td>-1</td><td>0</td></tr>\n",
       "<tr><td>0.0822084136308263</td><td>58347.107963293296</td><td>0.0007098808307563223</td><td>1.0844760273527712</td><td>-0.061436811917306634</td><td>212.77233195161108</td><td>-12.471005803293329</td><td>0.04303605167910836</td><td>0.059197024495635055</td><td>453</td><td>bad_22</td><td>-1</td><td>-1</td><td>-1</td><td>-1</td><td>-1</td><td>-1</td><td>-1</td><td>0</td></tr>\n",
       "<tr><td>0.095528749705609</td><td>58502.10412591921</td><td>0.0005013609411205552</td><td>-0.7020597510127291</td><td>-0.03407463780941617</td><td>351.9768512375515</td><td>35.098974917851194</td><td>0.08413924430192828</td><td>0.09197848176612793</td><td>480</td><td>bad_23</td><td>-1</td><td>-1</td><td>-1</td><td>-1</td><td>-1</td><td>-1</td><td>-1</td><td>0</td></tr>\n",
       "<tr><td>0.09296467537377794</td><td>58411.269120796176</td><td>0.0005615105190429029</td><td>1.6562911378300123</td><td>-0.062189042528550426</td><td>266.25978441743837</td><td>12.295792804323717</td><td>0.1299845484501555</td><td>0.12200864300866603</td><td>499</td><td>bad_24</td><td>-1</td><td>-1</td><td>-1</td><td>-1</td><td>-1</td><td>-1</td><td>-1</td><td>0</td></tr>\n",
       "</table></div>"
      ],
      "text/plain": [
       "<Table length=398>\n",
       "         z                   t0                   x0           ... nb_band_ztfg nb_band_ztfi pass selec\n",
       "      float64             float64              float64         ...    int64        int64       int64   \n",
       "-------------------- ------------------ ---------------------- ... ------------ ------------ ----------\n",
       " 0.09746273114426751 58434.321856282484 0.00025622912210447927 ...            3            0          0\n",
       " 0.09545085017442173  58449.84672495065  0.0005428088482511581 ...            0            0          0\n",
       " 0.08329532832943781 58242.045208409225  0.0007019810069605971 ...            0            0          0\n",
       " 0.09665627314283415  58179.74313249251   0.000323846066201955 ...            0            0          0\n",
       " 0.06768985090609805 58285.001010193184  0.0010558214069944442 ...           15            0          0\n",
       "0.052395678566137256  58440.57795955294  0.0018993318650067294 ...            1            0          0\n",
       " 0.09496615230696706  58404.34855619604  0.0004519889058892245 ...            0            0          0\n",
       " 0.07527202479792483  58262.54028992818  0.0007357072837832682 ...          128           11          1\n",
       " 0.07864194667329098  58400.65091764231  0.0004885173897171661 ...            1            0          0\n",
       " 0.07636610797218073  58282.01143462065  0.0004830939874074456 ...           24            2          1\n",
       " 0.06719229280005781 58318.941987158934  0.0009762864120534194 ...            4            0          0\n",
       "0.034939255536784584 58396.281443945525   0.003887034248211899 ...            7            0          0\n",
       " 0.05647814437682584  58257.17361350978  0.0018158013482646564 ...           21            7          1\n",
       " 0.05704765622053076   58368.8558056228  0.0017825531713776771 ...           48            3          1\n",
       " 0.06697638013022884  58432.00611799869   0.001333785778576615 ...            1            0          0\n",
       " 0.09924158873036648  58237.51097948071  0.0002880869549254076 ...            0            0          0\n",
       " 0.09219572727853108 58293.477323718296   0.000533110264578684 ...            0            0          0\n",
       " 0.08745401984968042 58189.274203718385   0.000603120179497916 ...            2            0          0\n",
       "  0.0696175414329167  58352.30377607982  0.0006998440570666008 ...            0            0          0\n",
       "  0.0694164026092382 58495.892287140516  0.0004391971997558446 ...            1            0          0\n",
       "                 ...                ...                    ... ...          ...          ...        ...\n",
       " 0.07136242783320561  58510.98892255322  0.0011026473908375097 ...           -1           -1          0\n",
       " 0.07014094123068594 58280.244622531296 0.00040335206182378545 ...           -1           -1          0\n",
       "  0.0917091036094538  58451.56980362866  0.0005884340930662071 ...           -1           -1          0\n",
       " 0.07643022348078693  58511.15375318513   0.001064179083036433 ...           -1           -1          0\n",
       "  0.0981396432170374  58312.51786917714 0.00019223687050469763 ...           -1           -1          0\n",
       " 0.06853345398738599  58487.25534347333  0.0006395039239427869 ...           -1           -1          0\n",
       " 0.08043603426013846 58481.849046823074  0.0004851087018811351 ...           -1           -1          0\n",
       " 0.09862951083733154 58192.183639703966 0.00018729435938656373 ...           -1           -1          0\n",
       " 0.03397751328381627   58502.6530036212  0.0013417709126452542 ...           -1           -1          0\n",
       "  0.0914949915177106 58501.579971650164  0.0003543689849107352 ...           -1           -1          0\n",
       " 0.09358600212445542  58222.64479041944   0.000339803387702402 ...           -1           -1          0\n",
       " 0.09165264361725992 58504.091710112945  0.0006508080048440881 ...           -1           -1          0\n",
       " 0.09349713373287187  58471.63816120698 0.00038529000534350135 ...           -1           -1          0\n",
       " 0.04993225740394547  58357.09787349076  0.0010159570979562942 ...           -1           -1          0\n",
       " 0.06157526788478131  58312.60632104832  0.0009226769888808455 ...           -1           -1          0\n",
       " 0.06537629030073816  58333.69052731417  0.0009908506346541113 ...           -1           -1          0\n",
       " 0.07063923096832568  58223.35753542243  0.0005638387494870239 ...           -1           -1          0\n",
       " 0.07758254414907863  58475.76163290115   0.001014500798851094 ...           -1           -1          0\n",
       "  0.0822084136308263 58347.107963293296  0.0007098808307563223 ...           -1           -1          0\n",
       "   0.095528749705609  58502.10412591921  0.0005013609411205552 ...           -1           -1          0\n",
       " 0.09296467537377794 58411.269120796176  0.0005615105190429029 ...           -1           -1          0"
      ]
     },
     "execution_count": 3,
     "metadata": {},
     "output_type": "execute_result"
    }
   ],
   "source": [
    "class_meta = Read_LightCurve(file_name='meta_selected.hdf5', inputDir='ZTF/dataLC')\n",
    "new_read_meta = class_meta.Read_file(path='meta')\n",
    "new_read_meta"
   ]
  },
  {
   "cell_type": "code",
   "execution_count": 4,
   "id": "09e8c069",
   "metadata": {
    "scrolled": true
   },
   "outputs": [
    {
     "name": "stderr",
     "output_type": "stream",
     "text": [
      "/Users/manon/opt/anaconda3/lib/python3.9/site-packages/sncosmo/fitting.py:235: RuntimeWarning: invalid value encountered in true_divide\n",
      "  significant_data = data[(data.flux / data.fluxerr) > minsnr]\n"
     ]
    },
    {
     "name": "stdout",
     "output_type": "stream",
     "text": [
      "WARNING : That was no valid light curve.\n",
      "None\n"
     ]
    },
    {
     "name": "stderr",
     "output_type": "stream",
     "text": [
      "/Users/manon/opt/anaconda3/lib/python3.9/site-packages/sncosmo/fitting.py:235: RuntimeWarning: invalid value encountered in true_divide\n",
      "  significant_data = data[(data.flux / data.fluxerr) > minsnr]\n"
     ]
    },
    {
     "name": "stdout",
     "output_type": "stream",
     "text": [
      "WARNING : That was no valid light curve.\n",
      "None\n"
     ]
    },
    {
     "name": "stderr",
     "output_type": "stream",
     "text": [
      "/Users/manon/opt/anaconda3/lib/python3.9/site-packages/sncosmo/fitting.py:235: RuntimeWarning: invalid value encountered in true_divide\n",
      "  significant_data = data[(data.flux / data.fluxerr) > minsnr]\n"
     ]
    },
    {
     "name": "stdout",
     "output_type": "stream",
     "text": [
      "WARNING : That was no valid light curve.\n",
      "None\n"
     ]
    },
    {
     "name": "stderr",
     "output_type": "stream",
     "text": [
      "/Users/manon/opt/anaconda3/lib/python3.9/site-packages/sncosmo/fitting.py:235: RuntimeWarning: invalid value encountered in true_divide\n",
      "  significant_data = data[(data.flux / data.fluxerr) > minsnr]\n"
     ]
    },
    {
     "name": "stdout",
     "output_type": "stream",
     "text": [
      "WARNING : That was no valid light curve.\n",
      "None\n"
     ]
    },
    {
     "name": "stderr",
     "output_type": "stream",
     "text": [
      "/Users/manon/opt/anaconda3/lib/python3.9/site-packages/sncosmo/fitting.py:235: RuntimeWarning: invalid value encountered in true_divide\n",
      "  significant_data = data[(data.flux / data.fluxerr) > minsnr]\n"
     ]
    },
    {
     "name": "stdout",
     "output_type": "stream",
     "text": [
      "WARNING : That was no valid light curve.\n",
      "None\n",
      "WARNING : That was no valid light curve.\n",
      "None\n"
     ]
    },
    {
     "name": "stderr",
     "output_type": "stream",
     "text": [
      "/Users/manon/opt/anaconda3/lib/python3.9/site-packages/sncosmo/fitting.py:235: RuntimeWarning: invalid value encountered in true_divide\n",
      "  significant_data = data[(data.flux / data.fluxerr) > minsnr]\n"
     ]
    },
    {
     "name": "stdout",
     "output_type": "stream",
     "text": [
      "WARNING : That was no valid light curve.\n",
      "None\n",
      "WARNING : That was no valid light curve.\n",
      "None\n",
      "WARNING : That was no valid light curve.\n",
      "None\n",
      "WARNING : That was no valid light curve.\n",
      "None\n"
     ]
    },
    {
     "name": "stderr",
     "output_type": "stream",
     "text": [
      "/Users/manon/opt/anaconda3/lib/python3.9/site-packages/sncosmo/fitting.py:235: RuntimeWarning: invalid value encountered in true_divide\n",
      "  significant_data = data[(data.flux / data.fluxerr) > minsnr]\n"
     ]
    },
    {
     "name": "stdout",
     "output_type": "stream",
     "text": [
      "WARNING : That was no valid light curve.\n",
      "None\n"
     ]
    },
    {
     "name": "stderr",
     "output_type": "stream",
     "text": [
      "/Users/manon/opt/anaconda3/lib/python3.9/site-packages/sncosmo/fitting.py:235: RuntimeWarning: invalid value encountered in true_divide\n",
      "  significant_data = data[(data.flux / data.fluxerr) > minsnr]\n"
     ]
    },
    {
     "name": "stdout",
     "output_type": "stream",
     "text": [
      "WARNING : That was no valid light curve.\n",
      "None\n"
     ]
    },
    {
     "name": "stderr",
     "output_type": "stream",
     "text": [
      "/Users/manon/opt/anaconda3/lib/python3.9/site-packages/sncosmo/fitting.py:235: RuntimeWarning: invalid value encountered in true_divide\n",
      "  significant_data = data[(data.flux / data.fluxerr) > minsnr]\n"
     ]
    },
    {
     "name": "stdout",
     "output_type": "stream",
     "text": [
      "WARNING : That was no valid light curve.\n",
      "None\n"
     ]
    },
    {
     "name": "stderr",
     "output_type": "stream",
     "text": [
      "/Users/manon/opt/anaconda3/lib/python3.9/site-packages/sncosmo/fitting.py:235: RuntimeWarning: invalid value encountered in true_divide\n",
      "  significant_data = data[(data.flux / data.fluxerr) > minsnr]\n"
     ]
    },
    {
     "name": "stdout",
     "output_type": "stream",
     "text": [
      "WARNING : That was no valid light curve.\n",
      "None\n"
     ]
    }
   ],
   "source": [
    "mask_pass_selec = new_read_meta['pass selec'] == 1\n",
    "new_read_meta = new_read_meta[mask_pass_selec]\n",
    "\n",
    "class_tab = SN_fit_tab(metaTable = new_read_meta, dataFile='data_simu.hdf5')\n",
    "t = class_tab.addto_meta()"
   ]
  },
  {
   "cell_type": "code",
   "execution_count": 5,
   "id": "7e26058c",
   "metadata": {},
   "outputs": [
    {
     "name": "stdout",
     "output_type": "stream",
     "text": [
      "File already exist : file remove\n"
     ]
    },
    {
     "name": "stderr",
     "output_type": "stream",
     "text": [
      "WARNING: Attribute `__serialized_columns__` of type <class 'dict'> cannot be written to HDF5 files - skipping. (Consider specifying serialize_meta=True to write all meta data) [astropy.io.misc.hdf5]\n"
     ]
    }
   ],
   "source": [
    "if os.path.isfile('/Users/manon/ZTF/dataLC/meta_fitted.hdf5'):\n",
    "    print('File already exist : file remove')\n",
    "    os.remove('/Users/manon/ZTF/dataLC/meta_fitted.hdf5')\n",
    "else:\n",
    "    print('')\n",
    "    \n",
    "astropy.io.misc.hdf5.write_table_hdf5(t, '/Users/manon/ZTF/dataLC/meta_fitted.hdf5', path='meta', append=True,\n",
    "                                                  overwrite=True, serialize_meta=False)"
   ]
  },
  {
   "cell_type": "code",
   "execution_count": 6,
   "id": "72621f0b",
   "metadata": {
    "scrolled": true
   },
   "outputs": [
    {
     "data": {
      "text/html": [
       "<div><i>Table length=101</i>\n",
       "<table id=\"table140592371445872\" class=\"table-striped table-bordered table-condensed\">\n",
       "<thead><tr><th>z</th><th>t0</th><th>x0</th><th>x1</th><th>c</th><th>ra</th><th>dec</th><th>mwebv</th><th>mwebv_sfd98</th><th>idx_orig</th><th>path</th><th>nb_phase&lt;0</th><th>nb_phase&gt;0</th><th>nb_phase&lt;-10</th><th>nb_phase&gt;20</th><th>nb_band_ztfr</th><th>nb_band_ztfg</th><th>nb_band_ztfi</th><th>pass selec</th><th>col0</th><th>col0.mask</th><th>z_fit</th><th>z_err</th><th>t0_fit</th><th>t0_err</th><th>x0_fit</th><th>x0_err</th><th>x1_fit</th><th>x1_err</th><th>c_fit</th><th>c_err</th><th>chisq</th><th>ndof</th><th>z_t0_cov</th><th>z_x0_cov</th><th>z_x1_cov</th><th>z_c_cov</th><th>x0_t0_cov</th><th>x0_x1_cov</th><th>x0_c_cov</th><th>t0_x1_cov</th><th>t0_c_cov</th><th>x1_c_cov</th></tr></thead>\n",
       "<thead><tr><th>float64</th><th>float64</th><th>float64</th><th>float64</th><th>float64</th><th>float64</th><th>float64</th><th>float64</th><th>float64</th><th>int64</th><th>str6</th><th>int64</th><th>int64</th><th>int64</th><th>int64</th><th>int64</th><th>int64</th><th>int64</th><th>int64</th><th>float64</th><th>bool</th><th>float64</th><th>float64</th><th>float64</th><th>float64</th><th>float64</th><th>float64</th><th>float64</th><th>float64</th><th>float64</th><th>float64</th><th>float64</th><th>int64</th><th>float64</th><th>float64</th><th>float64</th><th>float64</th><th>float64</th><th>float64</th><th>float64</th><th>float64</th><th>float64</th><th>float64</th></tr></thead>\n",
       "<tr><td>0.07527202479792483</td><td>58262.54028992818</td><td>0.0007357072837832682</td><td>0.4285095665095345</td><td>0.03939906513699044</td><td>252.93766065495151</td><td>41.2608040233519</td><td>0.024363606919234365</td><td>0.015750682949580336</td><td>7</td><td>SN_7</td><td>54</td><td>270</td><td>18</td><td>167</td><td>185</td><td>128</td><td>11</td><td>1</td><td>0.0</td><td>True</td><td>0.07435449205604329</td><td>1.5370349104593117e-08</td><td>58262.5421051676</td><td>2.7124915504828095e-06</td><td>0.000680122972476068</td><td>4.712738678259447e-06</td><td>0.4354395548227188</td><td>0.0465255349983792</td><td>0.06217961477417817</td><td>0.0058016043060011135</td><td>429.94789932789365</td><td>446</td><td>-4.169199045065732e-14</td><td>5.485619822108928e-19</td><td>-9.32068281076457e-15</td><td>-9.145346250120509e-16</td><td>-1.1352656431171323e-16</td><td>-1.4945514925804474e-07</td><td>-2.277716024289357e-08</td><td>1.4722334140580971e-12</td><td>7.236429770818785e-14</td><td>0.00010702299567615186</td></tr>\n",
       "<tr><td>0.07636610797218073</td><td>58282.01143462065</td><td>0.0004830939874074456</td><td>-1.1561518485460804</td><td>0.0657870770600679</td><td>321.2420532342666</td><td>16.834391535647732</td><td>0.06984346173163536</td><td>0.08094514554577627</td><td>9</td><td>SN_9</td><td>31</td><td>25</td><td>5</td><td>12</td><td>30</td><td>24</td><td>2</td><td>1</td><td>0.0</td><td>True</td><td>0.07536611967180026</td><td>8.605801100895066e-05</td><td>58282.18449258975</td><td>0.1253251224552514</td><td>0.00038128415710960226</td><td>4.929089725457276e-06</td><td>-1.2913763507557083</td><td>0.14631274148040224</td><td>0.13344904393448845</td><td>0.014199460230799134</td><td>107.13012032487565</td><td>106</td><td>7.30272845762736e-11</td><td>-9.208952057365524e-15</td><td>9.191560200057149e-11</td><td>2.0992551645456097e-12</td><td>1.0434043944288671e-07</td><td>-2.405192764576679e-07</td><td>-4.9512550053513236e-08</td><td>0.003930345636919668</td><td>-1.1214928234952345e-05</td><td>0.00017524384353854864</td></tr>\n",
       "<tr><td>0.05647814437682584</td><td>58257.17361350978</td><td>0.0018158013482646564</td><td>-0.975037864546135</td><td>-0.15857350731420297</td><td>322.92561963473366</td><td>0.8155242633423688</td><td>0.04158975903847518</td><td>0.05280088470002327</td><td>16</td><td>SN_12</td><td>5</td><td>46</td><td>2</td><td>33</td><td>23</td><td>21</td><td>7</td><td>1</td><td>0.0</td><td>True</td><td>0.055478627720164715</td><td>0.0017552656598743242</td><td>58257.1300487112</td><td>0.08955755168790347</td><td>0.0015887947983684412</td><td>1.7831657358331037e-05</td><td>-1.080259753585948</td><td>0.06704575314394119</td><td>-0.13057949351314246</td><td>0.010652070203176472</td><td>49.07556611686337</td><td>63</td><td>7.090047946003185e-08</td><td>-2.890570110409906e-11</td><td>-5.902089316903667e-08</td><td>-9.455638997981404e-09</td><td>-2.1558169713977377e-07</td><td>-5.216079786005594e-07</td><td>-1.5054425385142766e-07</td><td>-0.0008328591140223892</td><td>8.482268269024053e-05</td><td>0.00010893781930430554</td></tr>\n",
       "<tr><td>0.05704765622053076</td><td>58368.8558056228</td><td>0.0017825531713776771</td><td>1.2063338763834823</td><td>-0.09622008265151959</td><td>28.27907370615323</td><td>20.491048785879997</td><td>0.05584590455413493</td><td>0.06776404315085827</td><td>17</td><td>SN_13</td><td>53</td><td>61</td><td>26</td><td>6</td><td>63</td><td>48</td><td>3</td><td>1</td><td>0.0</td><td>True</td><td>0.05632685546793562</td><td>0.001356298592329084</td><td>58368.82660706172</td><td>0.040957114772027126</td><td>0.001459417634179259</td><td>8.53957172681022e-06</td><td>1.1858069267998745</td><td>0.0644567796329161</td><td>-0.05040211708670569</td><td>0.00695655161575451</td><td>166.31881068359002</td><td>141</td><td>3.790318450006515e-05</td><td>-2.034223983063683e-08</td><td>-0.00013055159187399132</td><td>-1.9047174761240953e-05</td><td>-1.6486358201885334e-07</td><td>-1.0276229635435495e-08</td><td>2.3564356081644327e-09</td><td>0.0009686687952757046</td><td>5.568901644668858e-06</td><td>0.000229329334928001</td></tr>\n",
       "<tr><td>0.08051997416017473</td><td>58384.62815558211</td><td>0.00047382614003165565</td><td>-0.534647378510369</td><td>0.05536545009826127</td><td>270.86670539615295</td><td>73.17235538542342</td><td>0.03279968246489215</td><td>0.03551731955591082</td><td>31</td><td>SN_21</td><td>84</td><td>49</td><td>36</td><td>4</td><td>64</td><td>65</td><td>4</td><td>1</td><td>0.0</td><td>True</td><td>-1.0</td><td>-1.0</td><td>-1.0</td><td>-1.0</td><td>-1.0</td><td>-1.0</td><td>-1.0</td><td>-1.0</td><td>-1.0</td><td>-1.0</td><td>-1.0</td><td>-1</td><td>-1.0</td><td>-1.0</td><td>-1.0</td><td>-1.0</td><td>-1.0</td><td>-1.0</td><td>-1.0</td><td>-1.0</td><td>-1.0</td><td>-1.0</td></tr>\n",
       "<tr><td>0.03170522341320423</td><td>58395.05367153636</td><td>0.00302373698174962</td><td>0.6935634616770904</td><td>0.14245738627353388</td><td>284.81770863383053</td><td>40.1371549257237</td><td>0.1045482959682118</td><td>0.12359229704317881</td><td>37</td><td>SN_25</td><td>12</td><td>17</td><td>7</td><td>12</td><td>14</td><td>15</td><td>0</td><td>1</td><td>0.0</td><td>True</td><td>0.03270521232478582</td><td>0.0012150826498988597</td><td>58395.05514865373</td><td>0.06329337682836922</td><td>0.0020359379080849885</td><td>1.8219245581621654e-05</td><td>0.5438377658194254</td><td>0.07744930661464874</td><td>0.2780326822915666</td><td>0.011069550680696105</td><td>41.136131852134156</td><td>39</td><td>3.476855971108098e-09</td><td>-9.051100986239456e-13</td><td>-1.8793652210207476e-08</td><td>-1.6270623166946032e-09</td><td>-1.617813311375346e-07</td><td>-2.794861615311665e-07</td><td>-1.4810027192321817e-07</td><td>0.0028928260466262244</td><td>7.146960351484918e-05</td><td>-0.00016840287499386212</td></tr>\n",
       "<tr><td>0.09701056376486197</td><td>58369.100109815445</td><td>0.0002689194200273108</td><td>-0.6793253756998378</td><td>0.08612273591947366</td><td>49.33270480932063</td><td>46.82497792519907</td><td>0.3349099759318712</td><td>0.3344527230488606</td><td>44</td><td>SN_32</td><td>17</td><td>31</td><td>1</td><td>3</td><td>29</td><td>19</td><td>0</td><td>1</td><td>0.0</td><td>True</td><td>0.09601062155288037</td><td>0.0003257898301011822</td><td>58368.919087763075</td><td>0.28321064923511585</td><td>9.339931807378143e-05</td><td>2.9896209861964484e-06</td><td>-0.9038590033895177</td><td>0.34491264062275634</td><td>0.3239025443298262</td><td>0.032119781615245355</td><td>135.7024217364443</td><td>141</td><td>2.0779946715554988e-09</td><td>-4.0275354889945065e-14</td><td>-7.371791805508399e-09</td><td>5.959555773802593e-10</td><td>-2.3450405678548945e-07</td><td>-4.180326219649138e-07</td><td>-7.681409897276709e-08</td><td>0.03005173428650599</td><td>0.0017577284708249947</td><td>0.0017738213601509836</td></tr>\n",
       "<tr><td>0.0943855011041209</td><td>58312.11253352787</td><td>0.000527192213331148</td><td>1.1259539322213878</td><td>0.0017885504287427998</td><td>281.30081698400767</td><td>27.01909643663274</td><td>0.11995037548665541</td><td>0.11549238549830834</td><td>46</td><td>SN_34</td><td>13</td><td>38</td><td>5</td><td>29</td><td>38</td><td>13</td><td>0</td><td>1</td><td>0.0</td><td>True</td><td>0.09338550581120734</td><td>0.0019508823711968173</td><td>58311.627773668355</td><td>0.19583435080130585</td><td>0.0003483991021184714</td><td>8.035726710321199e-06</td><td>1.157357852764736</td><td>0.20453441786472046</td><td>0.12505090252667309</td><td>0.02223373691508534</td><td>103.82249358245458</td><td>102</td><td>-4.564169971346343e-08</td><td>6.933227998837019e-12</td><td>-8.103395376128818e-08</td><td>-6.891143006861851e-09</td><td>-7.499594311371544e-08</td><td>-7.431946484852873e-07</td><td>-1.2437430436063973e-07</td><td>-0.00533944980164061</td><td>0.0005939434237475269</td><td>-0.0005407810676724968</td></tr>\n",
       "<tr><td>0.037040640560895226</td><td>58330.123123477504</td><td>0.0023210322198522143</td><td>0.9293025537124073</td><td>0.1361746912293007</td><td>308.97368945997573</td><td>-10.659547144817639</td><td>0.04390045504103143</td><td>0.04181157100845409</td><td>47</td><td>SN_35</td><td>7</td><td>27</td><td>5</td><td>14</td><td>18</td><td>16</td><td>0</td><td>1</td><td>0.0</td><td>True</td><td>0.03804061345246723</td><td>0.0019350145788472502</td><td>58330.19296381831</td><td>0.06278577528792084</td><td>0.0019464455463528076</td><td>2.8139164969361765e-05</td><td>1.0423777013034305</td><td>0.08724360748215763</td><td>0.19525331399875667</td><td>0.010913629281031071</td><td>21.092525090789145</td><td>34</td><td>2.5105753501966498e-09</td><td>8.115561126697411e-13</td><td>-1.2972788340773582e-09</td><td>-1.024545109675998e-09</td><td>-7.49944511567933e-07</td><td>-1.7197192032422814e-06</td><td>-2.5968769314984475e-07</td><td>0.0029709155617497402</td><td>0.00012948362704168475</td><td>0.0003470050357764461</td></tr>\n",
       "<tr><td>0.06644118262886411</td><td>58312.958531099524</td><td>0.0007043810013453456</td><td>0.8081952498780555</td><td>0.060256886610702956</td><td>240.75783884419133</td><td>14.73408970534761</td><td>0.040954541023635105</td><td>0.04291077715795697</td><td>51</td><td>SN_37</td><td>7</td><td>19</td><td>3</td><td>11</td><td>16</td><td>5</td><td>5</td><td>1</td><td>0.0</td><td>True</td><td>0.06544148135406179</td><td>0.0012107992916819965</td><td>58312.816801906876</td><td>0.20139996928264736</td><td>0.0006128521163422515</td><td>1.5498622142551004e-05</td><td>0.8125405874346303</td><td>0.2095325795691689</td><td>0.09110731547052563</td><td>0.022603583236288898</td><td>59.1465412449144</td><td>44</td><td>-7.974916931281395e-08</td><td>-5.659730596945955e-12</td><td>-5.445440616350647e-08</td><td>-4.636801397030427e-08</td><td>2.69407300893818e-07</td><td>-1.3908508692970221e-06</td><td>-2.732373812285385e-07</td><td>0.0025248264915307154</td><td>-0.00027144378558781557</td><td>0.00027547715936391144</td></tr>\n",
       "<tr><td>0.05178319321252998</td><td>58449.78215233331</td><td>0.0016153362379004903</td><td>-0.3708999670585366</td><td>-0.020701679316568418</td><td>33.61597025916593</td><td>-5.833047183608714</td><td>0.0340948450110049</td><td>0.022085072990438492</td><td>55</td><td>SN_41</td><td>4</td><td>21</td><td>3</td><td>14</td><td>15</td><td>10</td><td>0</td><td>1</td><td>0.0</td><td>True</td><td>0.050783364808642</td><td>0.0019609225813477897</td><td>58450.038671338894</td><td>0.20436346892893198</td><td>0.0013100486086833733</td><td>0.00010915221304168397</td><td>-0.10238900635993226</td><td>0.29663583499903656</td><td>0.07795550227123538</td><td>0.06041628020815863</td><td>40.9371043029231</td><td>41</td><td>4.932628190329084e-08</td><td>-5.036294391670807e-12</td><td>7.121327064084926e-09</td><td>-1.1264936792255037e-08</td><td>-1.7186022600426777e-05</td><td>-2.9701631465253858e-05</td><td>-6.495499867821532e-06</td><td>0.050142181975380735</td><td>0.008874003071108062</td><td>0.01565974551550248</td></tr>\n",
       "<tr><td>0.07570979904719469</td><td>58373.49764904732</td><td>0.0005627610190115056</td><td>-0.21162197753901857</td><td>0.0823069203933352</td><td>287.90254429586486</td><td>59.636888160743986</td><td>0.05205899098777399</td><td>0.06008882130451199</td><td>57</td><td>SN_42</td><td>93</td><td>124</td><td>30</td><td>8</td><td>109</td><td>101</td><td>7</td><td>1</td><td>0.0</td><td>True</td><td>-1.0</td><td>-1.0</td><td>-1.0</td><td>-1.0</td><td>-1.0</td><td>-1.0</td><td>-1.0</td><td>-1.0</td><td>-1.0</td><td>-1.0</td><td>-1.0</td><td>-1</td><td>-1.0</td><td>-1.0</td><td>-1.0</td><td>-1.0</td><td>-1.0</td><td>-1.0</td><td>-1.0</td><td>-1.0</td><td>-1.0</td><td>-1.0</td></tr>\n",
       "<tr><td>0.09383973756855679</td><td>58375.27338700261</td><td>0.00045993329646925934</td><td>-0.5996050525728664</td><td>-0.015791415363967165</td><td>27.55646551588159</td><td>25.202595367670472</td><td>0.11909419936036916</td><td>0.11409871215635273</td><td>58</td><td>SN_43</td><td>60</td><td>54</td><td>15</td><td>6</td><td>55</td><td>59</td><td>0</td><td>1</td><td>0.0</td><td>True</td><td>0.09483959134087495</td><td>0.001476326576652233</td><td>58375.35273682556</td><td>0.10187182177105569</td><td>0.00030576913025821725</td><td>2.7545487428776714e-06</td><td>-0.4872044008679448</td><td>0.14623353280303156</td><td>0.07957300718197555</td><td>0.009997633801143602</td><td>214.63043000326155</td><td>205</td><td>2.047441008036385e-07</td><td>1.109319509945054e-12</td><td>-1.5793811386670347e-07</td><td>-7.0507035820005e-08</td><td>-5.986103452274088e-08</td><td>-2.164818388935534e-07</td><td>-1.92130385114463e-08</td><td>0.010455819350286744</td><td>0.00020362809096830488</td><td>0.0004449112614752576</td></tr>\n",
       "<tr><td>0.08080849002255003</td><td>58449.00279572508</td><td>0.0005646088031338556</td><td>-0.26613616304261867</td><td>-0.025183140055627343</td><td>134.30971675994826</td><td>36.57124646459592</td><td>0.03984738024262026</td><td>0.02836254301471211</td><td>60</td><td>SN_44</td><td>15</td><td>11</td><td>4</td><td>5</td><td>18</td><td>8</td><td>0</td><td>1</td><td>0.0</td><td>True</td><td>0.08180848953725663</td><td>0.0019971916630580344</td><td>58448.77816931309</td><td>0.15205831772982492</td><td>0.0005020903863821468</td><td>1.310523805386256e-05</td><td>-0.6454500470899739</td><td>0.1518349087983556</td><td>0.0011479442344543996</td><td>0.024056575387939677</td><td>66.2837621612075</td><td>61</td><td>1.0694556000380078e-10</td><td>-2.5710981151113834e-14</td><td>-4.1494726186248167e-10</td><td>-5.1895304793561743e-11</td><td>6.437424552859077e-07</td><td>-6.164328527404713e-07</td><td>-2.5892349583192894e-07</td><td>0.01165189639143373</td><td>-0.0009348644630493757</td><td>0.0005097644666269681</td></tr>\n",
       "<tr><td>0.06540623100701602</td><td>58255.78420090594</td><td>0.001559375003868057</td><td>-0.6988856041202999</td><td>-0.20053441071990813</td><td>236.59686675560116</td><td>28.8651636646317</td><td>0.03154268149569321</td><td>0.0265493234366049</td><td>68</td><td>SN_49</td><td>9</td><td>57</td><td>3</td><td>36</td><td>29</td><td>27</td><td>10</td><td>1</td><td>0.0</td><td>True</td><td>0.06640622971201021</td><td>0.0017477742545419714</td><td>58255.77486230638</td><td>0.08833281074112165</td><td>0.001372714031732616</td><td>1.994432576439223e-05</td><td>-0.6238141078040312</td><td>0.0704208726177418</td><td>-0.1693192980041053</td><td>0.011718594554107715</td><td>73.88247896881609</td><td>75</td><td>-1.8505601961829305e-11</td><td>4.229561575469704e-14</td><td>7.542669797504289e-11</td><td>2.0401515632499398e-11</td><td>-6.088815093889238e-07</td><td>-9.282658052686239e-07</td><td>-2.0582075759345436e-07</td><td>-0.00011586765719752738</td><td>0.0002813739808117997</td><td>0.0004014278896114429</td></tr>\n",
       "<tr><td>0.06089645262509056</td><td>58391.67528695278</td><td>0.0012032882438746532</td><td>0.1006378739326793</td><td>-0.057737492529941495</td><td>38.84331096773563</td><td>35.970700888372264</td><td>0.06050251830999805</td><td>0.050110462005331834</td><td>84</td><td>SN_61</td><td>38</td><td>26</td><td>16</td><td>24</td><td>38</td><td>26</td><td>0</td><td>1</td><td>0.0</td><td>True</td><td>0.059902731156767024</td><td>0.00165948329644873</td><td>58391.66538611903</td><td>0.07180719316238537</td><td>0.0009719261563454823</td><td>1.0024738807865357e-05</td><td>0.10316840665415355</td><td>0.080204837215323</td><td>-0.004785022731303684</td><td>0.010859044291292292</td><td>116.02079123830639</td><td>123</td><td>2.049940002306365e-07</td><td>-5.2124030429544097e-11</td><td>-5.241650020303087e-07</td><td>-1.793512302958233e-08</td><td>9.161587496645473e-08</td><td>-2.0354558535976686e-07</td><td>-6.992722472513456e-08</td><td>0.004189316814839104</td><td>-7.318583529926538e-05</td><td>-7.578743972253264e-05</td></tr>\n",
       "<tr><td>0.08667840280196659</td><td>58274.46532453318</td><td>0.00045323701734174344</td><td>-0.18461416974073475</td><td>0.041340797710644944</td><td>240.14265694128386</td><td>60.56217439720598</td><td>0.0063946797489585535</td><td>0.009872020062502101</td><td>94</td><td>SN_69</td><td>124</td><td>276</td><td>29</td><td>143</td><td>239</td><td>143</td><td>18</td><td>1</td><td>0.0</td><td>True</td><td>-1.0</td><td>-1.0</td><td>-1.0</td><td>-1.0</td><td>-1.0</td><td>-1.0</td><td>-1.0</td><td>-1.0</td><td>-1.0</td><td>-1.0</td><td>-1.0</td><td>-1</td><td>-1.0</td><td>-1.0</td><td>-1.0</td><td>-1.0</td><td>-1.0</td><td>-1.0</td><td>-1.0</td><td>-1.0</td><td>-1.0</td><td>-1.0</td></tr>\n",
       "<tr><td>0.04070773071537651</td><td>58315.076842268994</td><td>0.0023496685048931642</td><td>0.6557400347680236</td><td>0.02590306311674826</td><td>298.2452981615361</td><td>10.170484375509375</td><td>0.2783176523350965</td><td>0.28689750989214485</td><td>98</td><td>SN_72</td><td>7</td><td>196</td><td>2</td><td>186</td><td>191</td><td>12</td><td>0</td><td>1</td><td>0.0</td><td>True</td><td>0.040863631774599105</td><td>0.0010104531906638438</td><td>58315.08187265875</td><td>0.12520018100985908</td><td>0.0008249227247930919</td><td>1.74706850396277e-05</td><td>0.506210665232947</td><td>0.11775638757187035</td><td>0.329610531235518</td><td>0.033272642830043685</td><td>200.77165194472153</td><td>213</td><td>0.000663919304745039</td><td>1.1541947204156096e-07</td><td>-0.0009061370590184503</td><td>-0.0003691476964198422</td><td>9.122718133104381e-07</td><td>-9.95993689730531e-07</td><td>-4.729908216620034e-07</td><td>-0.0026224492554967407</td><td>-0.0022629862362984884</td><td>0.0019160086561966084</td></tr>\n",
       "<tr><td>0.06011245156057485</td><td>58282.427165118235</td><td>0.0008989499671543145</td><td>1.2857339709513242</td><td>0.03253151919063863</td><td>276.1880864099166</td><td>18.045271666530073</td><td>0.17858748687514975</td><td>0.17500589928555868</td><td>99</td><td>SN_73</td><td>9</td><td>23</td><td>2</td><td>14</td><td>20</td><td>12</td><td>0</td><td>1</td><td>0.0</td><td>True</td><td>0.06110019696678744</td><td>0.0010061141452866428</td><td>58282.586836207665</td><td>0.21401778800645843</td><td>0.00046294575083270697</td><td>9.5600924996321e-06</td><td>1.2174754999371444</td><td>0.21062783537818236</td><td>0.2249554306549657</td><td>0.020522575632931743</td><td>40.898882989699885</td><td>43</td><td>-8.524884910908405e-06</td><td>1.2232128466030238e-09</td><td>-1.867617979323857e-05</td><td>-6.549426453748207e-06</td><td>-3.7516904351445124e-07</td><td>-6.803801898970183e-07</td><td>-1.6430330019586357e-07</td><td>-0.006055079565914791</td><td>0.001089510932347398</td><td>0.0003175352309134069</td></tr>\n",
       "<tr><td>0.08816832998515786</td><td>58290.75364176324</td><td>0.00037609476645415453</td><td>-1.7691376448127316</td><td>0.04397718697592384</td><td>244.96801327226368</td><td>59.51400861352566</td><td>0.006458752497370581</td><td>0.012482174251530309</td><td>101</td><td>SN_75</td><td>52</td><td>140</td><td>22</td><td>45</td><td>108</td><td>77</td><td>7</td><td>1</td><td>0.0</td><td>True</td><td>0.08716833081898677</td><td>1.2643108558967053e-05</td><td>58290.72046966072</td><td>0.05202736618957715</td><td>0.00037360089872353036</td><td>3.310802997334928e-06</td><td>-1.8218269064730794</td><td>0.051062209132583504</td><td>0.04314772602781045</td><td>0.00880478059237928</td><td>439.1801339912574</td><td>385</td><td>3.2034153937956797e-14</td><td>-2.172072669980133e-16</td><td>-1.939958190467374e-12</td><td>4.623002809668836e-13</td><td>-3.276749174336313e-08</td><td>-7.81486012642515e-08</td><td>-2.329472041034232e-08</td><td>0.0012290855649639033</td><td>5.737939456400573e-05</td><td>0.00010920033369652729</td></tr>\n",
       "<tr><td>...</td><td>...</td><td>...</td><td>...</td><td>...</td><td>...</td><td>...</td><td>...</td><td>...</td><td>...</td><td>...</td><td>...</td><td>...</td><td>...</td><td>...</td><td>...</td><td>...</td><td>...</td><td>...</td><td>...</td><td>...</td><td>...</td><td>...</td><td>...</td><td>...</td><td>...</td><td>...</td><td>...</td><td>...</td><td>...</td><td>...</td><td>...</td><td>...</td><td>...</td><td>...</td><td>...</td><td>...</td><td>...</td><td>...</td><td>...</td><td>...</td><td>...</td><td>...</td></tr>\n",
       "<tr><td>0.07462650330726706</td><td>58315.812977720154</td><td>0.00034883196394212504</td><td>-0.2562169630662257</td><td>0.24405251851209409</td><td>308.86436299979147</td><td>10.13748082751947</td><td>0.10621673322099644</td><td>0.08807776763919706</td><td>399</td><td>SN_301</td><td>4</td><td>18</td><td>1</td><td>9</td><td>16</td><td>6</td><td>0</td><td>1</td><td>0.0</td><td>True</td><td>0.07362674906304284</td><td>0.0013318239101573065</td><td>58315.74383384662</td><td>0.34240292423419305</td><td>0.00022951889728374192</td><td>8.044588786616494e-06</td><td>-0.19057388578961346</td><td>0.26784823847047556</td><td>0.39253953384215523</td><td>0.03475074189030851</td><td>54.73365480543312</td><td>45</td><td>-1.0965803283256436e-08</td><td>-1.2680867717765327e-12</td><td>6.963398279606663e-08</td><td>4.297549373012189e-09</td><td>-9.33701913000787e-08</td><td>-4.96751951183927e-07</td><td>-2.2410600933181726e-07</td><td>0.004371406769231738</td><td>-0.001189819862002359</td><td>-0.0011803603291038085</td></tr>\n",
       "<tr><td>0.08654394789698427</td><td>58326.62681671793</td><td>0.00040480572340934653</td><td>-1.0392003791859017</td><td>0.07345708365633706</td><td>7.661637931636385</td><td>-11.487435244417767</td><td>0.02603713384637971</td><td>0.026306393120909998</td><td>402</td><td>SN_303</td><td>6</td><td>50</td><td>2</td><td>44</td><td>42</td><td>14</td><td>0</td><td>1</td><td>0.0</td><td>True</td><td>0.08554401477181059</td><td>0.0014195864768158165</td><td>58326.51274950361</td><td>0.14525795151348575</td><td>0.00038748880032898783</td><td>1.2059186665136725e-05</td><td>-1.2346033016347615</td><td>0.14564612698842128</td><td>0.07679182257019967</td><td>0.02608522382871606</td><td>82.02082171660506</td><td>97</td><td>1.076389500318581e-09</td><td>-2.9741647357995285e-14</td><td>-1.1131098104187215e-10</td><td>-5.5533416768441724e-11</td><td>1.9031036433323543e-07</td><td>-1.0833337371847876e-06</td><td>-2.6603723582483485e-07</td><td>0.000907700597202122</td><td>-0.0008599503628437721</td><td>0.001104108787487941</td></tr>\n",
       "<tr><td>0.082055022460183</td><td>58276.52417037848</td><td>0.000656335227654673</td><td>0.805008462032508</td><td>-0.0032361922750764765</td><td>246.48277612555447</td><td>27.802926442179732</td><td>0.041837408360339445</td><td>0.059749857998744854</td><td>403</td><td>SN_304</td><td>36</td><td>163</td><td>13</td><td>84</td><td>108</td><td>81</td><td>10</td><td>1</td><td>0.0</td><td>True</td><td>0.08305501574903418</td><td>0.0016748833559121004</td><td>58276.530519887456</td><td>0.0758001436588529</td><td>0.0005653004092938093</td><td>3.6365408421425137e-06</td><td>0.8086543648748296</td><td>0.06756605827693765</td><td>0.03529914681083809</td><td>0.006246533382540721</td><td>310.35235202418687</td><td>300</td><td>3.1719242853277566e-09</td><td>-1.2117958902269242e-13</td><td>1.467510031833295e-10</td><td>-2.9433053218528106e-09</td><td>-8.100636421743828e-08</td><td>-1.0977586539416291e-07</td><td>-1.68724537892657e-08</td><td>6.656286854681092e-05</td><td>4.0121584684238475e-05</td><td>6.000150724613587e-05</td></tr>\n",
       "<tr><td>0.08570679493357897</td><td>58398.16829573038</td><td>0.0003473342373450945</td><td>-0.26837580902999886</td><td>0.10125082482008681</td><td>355.147054032612</td><td>34.0222807422741</td><td>0.0523001383419835</td><td>0.05906303808690731</td><td>406</td><td>SN_307</td><td>10</td><td>10</td><td>5</td><td>8</td><td>9</td><td>8</td><td>3</td><td>1</td><td>0.0</td><td>True</td><td>0.08670490366088025</td><td>0.0018910744524261655</td><td>58398.24019710072</td><td>0.22806929713624413</td><td>0.00030005984251561666</td><td>8.329765683497364e-06</td><td>-0.45989864635799166</td><td>0.2229807130514035</td><td>0.1294572098345614</td><td>0.02818494666140219</td><td>70.27943414099639</td><td>89</td><td>8.946969345979274e-08</td><td>1.371839771963093e-10</td><td>-1.5673955927988812e-06</td><td>-2.5324870485630767e-07</td><td>1.6510428551788147e-08</td><td>-6.790450907434527e-07</td><td>-1.5280123547564749e-07</td><td>0.02801011578110542</td><td>-0.000532556443373416</td><td>7.056755576838443e-05</td></tr>\n",
       "<tr><td>0.0815791880289271</td><td>58364.81405271648</td><td>0.0004392527424366566</td><td>-0.4271149682712527</td><td>0.09557322381161792</td><td>341.29268559583096</td><td>25.728371599237356</td><td>0.05587968560329532</td><td>0.057939982746046406</td><td>409</td><td>SN_309</td><td>23</td><td>30</td><td>9</td><td>9</td><td>30</td><td>16</td><td>7</td><td>1</td><td>0.0</td><td>True</td><td>0.08257918675798759</td><td>0.0011765739197764566</td><td>58364.70138677093</td><td>0.13979584943444934</td><td>0.0003697410328341249</td><td>6.833778575828006e-06</td><td>-0.3600986045166457</td><td>0.15557703473469878</td><td>0.12515477561112656</td><td>0.01706415669269218</td><td>75.47323619948736</td><td>91</td><td>2.4935061513922666e-09</td><td>-3.0736232511801833e-13</td><td>9.689012170304334e-09</td><td>2.4857782124822e-09</td><td>-3.7710550739176065e-07</td><td>-5.53185695573493e-07</td><td>-9.78654788094835e-08</td><td>0.01055629030243169</td><td>0.0007961631518933537</td><td>0.0008609731804470947</td></tr>\n",
       "<tr><td>0.03727810322582215</td><td>58289.01184732543</td><td>0.003434436211317723</td><td>0.5464449983975801</td><td>0.003866481682507847</td><td>278.35181545274327</td><td>3.352914413906992</td><td>0.792610340063083</td><td>0.7918946529555853</td><td>417</td><td>SN_316</td><td>22</td><td>39</td><td>8</td><td>14</td><td>35</td><td>26</td><td>0</td><td>1</td><td>0.0</td><td>True</td><td>0.036278123806210684</td><td>3.7826132306843785e-05</td><td>58289.19832782752</td><td>0.14543632455024635</td><td>0.00017729993795765267</td><td>5.093480832017013e-06</td><td>0.6542237247832069</td><td>0.16921866810250166</td><td>0.8187434579188828</td><td>0.024163669823139163</td><td>101.83671287732027</td><td>105</td><td>1.8288023417480072e-10</td><td>-1.6598272110677673e-14</td><td>6.606176805264417e-10</td><td>7.33581435095596e-11</td><td>2.4861057837976016e-08</td><td>-3.1966624458710165e-07</td><td>-1.1219629039954487e-07</td><td>0.010598855536037488</td><td>-2.888626702453043e-05</td><td>0.0008782850388759189</td></tr>\n",
       "<tr><td>0.033337116945024295</td><td>58319.77364930322</td><td>0.003545129371607024</td><td>-0.16533880319379027</td><td>-0.04134731618344759</td><td>47.39821110315792</td><td>22.705645486447896</td><td>0.19195409626219728</td><td>0.19015285144676247</td><td>428</td><td>SN_323</td><td>4</td><td>50</td><td>1</td><td>39</td><td>32</td><td>22</td><td>0</td><td>1</td><td>0.0</td><td>True</td><td>0.03316841657273833</td><td>0.0013115694830692533</td><td>58319.81084255534</td><td>0.08933026688100654</td><td>0.0017222370143618665</td><td>2.1836719347685855e-05</td><td>-0.1625438813632649</td><td>0.06294768694792027</td><td>0.1577603085500942</td><td>0.012721862509755943</td><td>31.413912870020027</td><td>50</td><td>1.6779660314823507e-05</td><td>9.670530493828383e-09</td><td>-2.814221053849127e-06</td><td>-1.4835240928655403e-05</td><td>-1.9488650542851216e-07</td><td>-5.075238398307589e-07</td><td>-2.2869531997935137e-07</td><td>-0.0016830869778043363</td><td>2.397282314193717e-05</td><td>7.243666074075575e-05</td></tr>\n",
       "<tr><td>0.06589441523088672</td><td>58298.660495318225</td><td>0.00091276102063087</td><td>-0.13865395399126593</td><td>-0.06692346003334969</td><td>224.83216330033608</td><td>24.613211340606348</td><td>0.03858502033075433</td><td>0.0388288599914419</td><td>429</td><td>SN_324</td><td>11</td><td>25</td><td>5</td><td>14</td><td>19</td><td>11</td><td>6</td><td>1</td><td>0.0</td><td>True</td><td>0.06689439315687429</td><td>0.0016862239564795836</td><td>58298.599871800005</td><td>0.10942131159026758</td><td>0.0007983002425789371</td><td>1.334443905669633e-05</td><td>-0.14712974730674444</td><td>0.11534440603067744</td><td>-0.044392035538003576</td><td>0.015222797063962835</td><td>101.52820650294419</td><td>67</td><td>5.781464471159098e-09</td><td>-1.172899217919269e-12</td><td>-1.85821614758667e-08</td><td>-2.781648833744265e-09</td><td>-6.62937390856712e-07</td><td>-8.792422806930746e-07</td><td>-1.5638264978929206e-07</td><td>0.008789093611914638</td><td>0.00046255385122992367</td><td>0.0004591531620869957</td></tr>\n",
       "<tr><td>0.041862584566235095</td><td>58399.714647296845</td><td>0.0018253162130530095</td><td>-1.704390040403051</td><td>-0.04526855610711108</td><td>2.2595652480034545</td><td>-0.9348067626036444</td><td>0.02690236427942303</td><td>0.02316161073746947</td><td>431</td><td>SN_326</td><td>7</td><td>12</td><td>4</td><td>12</td><td>8</td><td>7</td><td>4</td><td>1</td><td>0.0</td><td>True</td><td>0.04286256913233393</td><td>0.0019242592539445158</td><td>58399.83288515853</td><td>0.08626250715315109</td><td>0.0018214737021569382</td><td>0.00010161555656625505</td><td>-1.8754983368725875</td><td>0.1245684074406923</td><td>-0.06959813462203215</td><td>0.03119291353355692</td><td>41.22944460888042</td><td>36</td><td>2.123783749750085e-10</td><td>-3.44654980871932e-13</td><td>-6.730027128539239e-11</td><td>1.0119581053756193e-11</td><td>1.8821247904240332e-06</td><td>-9.87187444553601e-06</td><td>-2.9469067674067187e-06</td><td>0.001869880645155454</td><td>-0.0005381226104488355</td><td>0.0025294238139221196</td></tr>\n",
       "<tr><td>0.07894652277724562</td><td>58353.57201469495</td><td>0.00038830580387992994</td><td>-1.6226311957077888</td><td>0.06540451005535174</td><td>52.0314642197254</td><td>17.28150573726486</td><td>0.11497600584456505</td><td>0.11389096962632209</td><td>443</td><td>SN_334</td><td>8</td><td>21</td><td>2</td><td>9</td><td>19</td><td>10</td><td>0</td><td>1</td><td>0.0</td><td>True</td><td>0.07794652278409457</td><td>0.00012871673104505182</td><td>58353.68954068459</td><td>0.162354029405833</td><td>0.0002506796274997835</td><td>8.48703971402378e-06</td><td>-1.7767140492441444</td><td>0.18143977919138224</td><td>0.21020359825322618</td><td>0.030443991699169507</td><td>40.42054425562021</td><td>48</td><td>-7.28715432756544e-13</td><td>3.004353415751161e-17</td><td>-4.142834911610468e-13</td><td>-1.1779948221444384e-13</td><td>1.0200020191604508e-07</td><td>-7.508578899328271e-07</td><td>-2.2416024359364243e-07</td><td>0.004231814745667475</td><td>-0.00034717976151222527</td><td>0.0015545994235275189</td></tr>\n",
       "<tr><td>0.057861706361954444</td><td>58305.8152082313</td><td>0.0008239295866418918</td><td>-1.5444078149938767</td><td>0.03634856146103224</td><td>315.0047712920704</td><td>0.7187384884112242</td><td>0.06461477078177848</td><td>0.06616507354183036</td><td>446</td><td>SN_337</td><td>8</td><td>18</td><td>2</td><td>8</td><td>14</td><td>8</td><td>4</td><td>1</td><td>0.0</td><td>True</td><td>0.05843408940427802</td><td>0.0014090468185853425</td><td>58305.899479878404</td><td>0.14407128453240148</td><td>0.0006322462971363251</td><td>1.513317871710074e-05</td><td>-1.3399950438633237</td><td>0.1343448149972045</td><td>0.1255280273858568</td><td>0.025905130932643673</td><td>65.55768963026301</td><td>52</td><td>0.00011409215112114647</td><td>1.8692801180182725e-08</td><td>-0.0002329625771186725</td><td>-0.00012191902928785492</td><td>-8.311673699318396e-07</td><td>-9.307598045557443e-07</td><td>-2.9433538117625623e-07</td><td>0.0032937189698900673</td><td>0.0005523743147581863</td><td>0.0009992783065045096</td></tr>\n",
       "<tr><td>0.0792114058061697</td><td>58327.238473099416</td><td>0.0005660137119928651</td><td>-0.042613906555610856</td><td>0.10374651129243134</td><td>307.83525161906147</td><td>-9.548506675268028</td><td>0.06041155289392567</td><td>0.06723169127242182</td><td>448</td><td>SN_338</td><td>5</td><td>21</td><td>2</td><td>9</td><td>16</td><td>10</td><td>0</td><td>1</td><td>0.0</td><td>True</td><td>0.07821140589449334</td><td>0.0010155965329160382</td><td>58327.09123948562</td><td>0.15213113057689043</td><td>0.0004740567313927693</td><td>1.6707493051380883e-05</td><td>-0.4190176186591266</td><td>0.21555130662674848</td><td>0.12836093414527522</td><td>0.029281032551180093</td><td>21.792269311513074</td><td>35</td><td>-3.335162452018677e-10</td><td>2.971041380051329e-14</td><td>9.021790866714403e-11</td><td>1.7514660275788082e-10</td><td>-2.6026847459850867e-07</td><td>-2.5517378990631696e-06</td><td>-4.064189841316438e-07</td><td>0.009265496190966118</td><td>-0.00023327557214758833</td><td>0.00254391119188905</td></tr>\n",
       "<tr><td>0.07919584338082095</td><td>58330.76607307906</td><td>0.0009554242176352582</td><td>0.7713804023045404</td><td>-0.10001663343967643</td><td>352.76721209225377</td><td>28.72593854572276</td><td>0.09482286782804791</td><td>0.0905116283883035</td><td>457</td><td>SN_344</td><td>17</td><td>94</td><td>5</td><td>65</td><td>62</td><td>34</td><td>15</td><td>1</td><td>0.0</td><td>True</td><td>0.08019582640162567</td><td>0.001686769334149095</td><td>58330.688691740754</td><td>0.08239192895052838</td><td>0.0006887519136408333</td><td>7.075578623945042e-06</td><td>0.7802381255157567</td><td>0.07887164250139526</td><td>-0.0277262390643148</td><td>0.008899623089461671</td><td>133.2242134878146</td><td>126</td><td>1.5006588783367987e-09</td><td>-1.819331320217796e-13</td><td>1.1020401858374798e-09</td><td>-3.398237371804471e-10</td><td>-8.778977688586057e-08</td><td>-3.038037899806484e-07</td><td>-4.642794814890389e-08</td><td>0.0004261280307854765</td><td>5.569048949331142e-06</td><td>8.083943762668424e-05</td></tr>\n",
       "<tr><td>0.06581868420017553</td><td>58346.416989517515</td><td>0.0014850791558303634</td><td>-0.7467998742147044</td><td>-0.18528568987236438</td><td>11.937128406122358</td><td>-5.963579479089307</td><td>0.09121297988252403</td><td>0.06689332539108776</td><td>474</td><td>SN_354</td><td>14</td><td>99</td><td>6</td><td>54</td><td>69</td><td>44</td><td>0</td><td>1</td><td>0.0</td><td>True</td><td>0.06681864452061131</td><td>0.0016213053520060527</td><td>58346.44345743126</td><td>0.06592747198010329</td><td>0.0010702520772798388</td><td>8.226510820057596e-06</td><td>-0.726188946601317</td><td>0.054621684215344565</td><td>-0.11413318135276915</td><td>0.007378768209841259</td><td>146.18930438220593</td><td>129</td><td>3.500584395117408e-10</td><td>-6.473232183839995e-13</td><td>-1.4289300323417176e-09</td><td>-3.5544838658441244e-10</td><td>-1.0858786020901728e-07</td><td>-1.7807419198757839e-07</td><td>-4.825965821616888e-08</td><td>9.107081610353145e-05</td><td>1.7743955014456564e-05</td><td>4.4812066580159955e-05</td></tr>\n",
       "<tr><td>0.06688017900127598</td><td>58452.96090740257</td><td>0.002230365222052583</td><td>0.9845652450740238</td><td>-0.21912032281979266</td><td>355.5387052868453</td><td>21.557237669747916</td><td>0.036590889070510335</td><td>0.053356769384346095</td><td>475</td><td>SN_355</td><td>15</td><td>16</td><td>13</td><td>5</td><td>16</td><td>15</td><td>0</td><td>1</td><td>0.0</td><td>True</td><td>0.06588048259422778</td><td>0.0019945412815505423</td><td>58452.91884544325</td><td>0.10034196824199171</td><td>0.0019005462637314199</td><td>3.557164252888212e-05</td><td>1.077589369729796</td><td>0.14948560489580515</td><td>-0.1655844563399445</td><td>0.016204586552790355</td><td>75.83480407720505</td><td>68</td><td>3.497295680591266e-09</td><td>-6.002419414041216e-12</td><td>-6.406536248190917e-08</td><td>-6.543199914670432e-09</td><td>-2.232773847060749e-06</td><td>-4.341022682510363e-06</td><td>-5.063923288162255e-07</td><td>0.011912203197744518</td><td>0.0008031659156639401</td><td>0.0015737001402724923</td></tr>\n",
       "<tr><td>0.06952024634062683</td><td>58215.064381430835</td><td>0.0009450351761023221</td><td>-0.2729196258669975</td><td>-0.0458068068289808</td><td>157.47219133565758</td><td>-2.4349134539415207</td><td>0.04607033670136721</td><td>0.034443649741784016</td><td>477</td><td>SN_357</td><td>4</td><td>11</td><td>1</td><td>5</td><td>9</td><td>6</td><td>0</td><td>1</td><td>0.0</td><td>True</td><td>0.06852111665071002</td><td>0.0018244427933221188</td><td>58214.94831052956</td><td>0.22531065280054463</td><td>0.0007719266339049692</td><td>4.0512996898225124e-05</td><td>-0.048788887244880806</td><td>0.2108271523355714</td><td>0.013480080101836359</td><td>0.04429119408724697</td><td>15.192841918526632</td><td>15</td><td>9.660845865225615e-08</td><td>-1.1949724215177697e-10</td><td>-8.643417212211578e-07</td><td>-1.6162500837943195e-07</td><td>7.389979003151828e-07</td><td>-5.080145563208173e-06</td><td>-1.6949799506078916e-06</td><td>0.006412125381170512</td><td>-0.002271719520929969</td><td>0.004189623037553829</td></tr>\n",
       "<tr><td>0.056298645016721896</td><td>58305.966858929554</td><td>0.0011308541395864456</td><td>0.45021385233782246</td><td>0.014454740869222993</td><td>4.632645094560219</td><td>24.68829444115912</td><td>0.017917229102092966</td><td>0.030952029669171995</td><td>479</td><td>SN_359</td><td>25</td><td>95</td><td>11</td><td>67</td><td>58</td><td>41</td><td>21</td><td>1</td><td>0.0</td><td>True</td><td>0.055298645037237484</td><td>0.001993514967215719</td><td>58306.026332619185</td><td>0.056184771074185846</td><td>0.0010796907291275848</td><td>9.14818389483313e-06</td><td>0.4193111295193148</td><td>0.05482152765105989</td><td>0.027690931997992527</td><td>0.007043038193090454</td><td>159.9171844802127</td><td>146</td><td>-3.5537121429232907e-10</td><td>3.854333445976393e-14</td><td>2.1301902533468126e-10</td><td>9.724713711142399e-11</td><td>-9.835638455724425e-08</td><td>-2.685077167852167e-07</td><td>-4.9283859474430305e-08</td><td>0.0007573189293584896</td><td>-1.3334979523937255e-05</td><td>4.9465259530060726e-05</td></tr>\n",
       "<tr><td>0.0815174820126027</td><td>58326.092343482254</td><td>0.000585352152678766</td><td>-0.47393354418726846</td><td>-0.07312580969242492</td><td>247.93879059032193</td><td>61.87845457560498</td><td>0.019138085033905957</td><td>0.029021568431656836</td><td>483</td><td>SN_361</td><td>68</td><td>140</td><td>26</td><td>91</td><td>134</td><td>68</td><td>6</td><td>1</td><td>0.0</td><td>True</td><td>0.08051749496612762</td><td>4.529182029926193e-05</td><td>58325.97251442474</td><td>0.061067585043929284</td><td>0.0005436853412485446</td><td>3.951347444304528e-06</td><td>-0.4448827472877527</td><td>0.06196437401200349</td><td>-0.053754103478503235</td><td>0.0075712107211866695</td><td>338.5126905825529</td><td>366</td><td>-2.5400033893209754e-10</td><td>-9.262385741685497e-14</td><td>3.867349750390669e-10</td><td>2.5664221729183035e-11</td><td>-8.636123921375982e-09</td><td>-9.324752466783776e-08</td><td>-2.112346458415659e-08</td><td>0.002049478425925713</td><td>-4.0235857094824005e-05</td><td>5.1282706454095944e-06</td></tr>\n",
       "<tr><td>0.09374185432062188</td><td>58300.548150801515</td><td>0.0002968708078287458</td><td>-0.43117911080854937</td><td>0.13182391955662873</td><td>229.03591520889645</td><td>26.257159455014797</td><td>0.04929747433758654</td><td>0.04842993900661466</td><td>488</td><td>SN_364</td><td>10</td><td>12</td><td>3</td><td>5</td><td>11</td><td>7</td><td>4</td><td>1</td><td>0.0</td><td>True</td><td>0.09274186862277675</td><td>0.001389153519551059</td><td>58301.08470134332</td><td>0.2488327853498049</td><td>0.00024513455454883533</td><td>7.745662296322246e-06</td><td>-0.4485706378504066</td><td>0.24359063422212474</td><td>0.19098092220037013</td><td>0.030143874840571044</td><td>69.58492403135742</td><td>70</td><td>-1.6276362266031892e-09</td><td>5.014618600237924e-15</td><td>-3.995603095087413e-09</td><td>2.4782788548775155e-10</td><td>-8.720162777647234e-07</td><td>-8.508324139530418e-07</td><td>-1.7174918628525e-07</td><td>0.02794381986888844</td><td>0.0020924453669487193</td><td>0.0008553603890059034</td></tr>\n",
       "<tr><td>0.07934910126601674</td><td>58365.21450550113</td><td>0.0004110911090908878</td><td>-1.5990737053220636</td><td>0.11075579458823342</td><td>25.935920142605752</td><td>32.6393399283866</td><td>0.01972198496338097</td><td>0.03266679453514417</td><td>495</td><td>SN_369</td><td>35</td><td>62</td><td>12</td><td>13</td><td>55</td><td>34</td><td>8</td><td>1</td><td>0.0</td><td>True</td><td>0.07834910214208571</td><td>0.0017459318290302672</td><td>58365.234488378715</td><td>0.07799734480067855</td><td>0.00039257622940667156</td><td>4.893736029092817e-06</td><td>-1.696196261219875</td><td>0.07549709360797904</td><td>0.12345940266253498</td><td>0.01186566380618666</td><td>124.45674598659839</td><td>144</td><td>-1.4196347577644626e-10</td><td>1.1253508088363149e-14</td><td>-3.3556701838845594e-10</td><td>-8.527118975761235e-11</td><td>-1.923434665871808e-07</td><td>-1.9252800338933962e-07</td><td>-4.869116867087443e-08</td><td>0.0032440263664373662</td><td>0.0003690039822787465</td><td>0.0002855947279583536</td></tr>\n",
       "<tr><td>0.0569116081518727</td><td>58218.12513082557</td><td>0.0015582726798862323</td><td>-0.37248391847748724</td><td>-0.11409482058100598</td><td>129.21861859556586</td><td>19.914146500121632</td><td>0.009860622118560406</td><td>0.023940155432592525</td><td>498</td><td>SN_372</td><td>7</td><td>10</td><td>2</td><td>3</td><td>9</td><td>8</td><td>0</td><td>1</td><td>0.0</td><td>True</td><td>0.055911616462440014</td><td>8.052057899996315e-05</td><td>58218.144903430926</td><td>0.12231338379569934</td><td>0.0014332862779193225</td><td>4.765246123601245e-05</td><td>-0.17193470255328988</td><td>0.1991237474593095</td><td>-0.06999198026688168</td><td>0.02814234011133162</td><td>17.761915578438167</td><td>14</td><td>1.3113477582605987e-10</td><td>-4.008721536056279e-13</td><td>1.4147678152479358e-09</td><td>2.095454372567931e-10</td><td>-6.029934728339067e-07</td><td>-7.790815173002213e-06</td><td>-1.2463756054362749e-06</td><td>0.007126652512785674</td><td>3.785801724211896e-05</td><td>0.003958242290610168</td></tr>\n",
       "</table></div>"
      ],
      "text/plain": [
       "<Table length=101>\n",
       "         z                   t0                   x0           ...         t0_c_cov                x1_c_cov       \n",
       "      float64             float64              float64         ...         float64                 float64        \n",
       "-------------------- ------------------ ---------------------- ... ----------------------- -----------------------\n",
       " 0.07527202479792483  58262.54028992818  0.0007357072837832682 ...   7.236429770818785e-14  0.00010702299567615186\n",
       " 0.07636610797218073  58282.01143462065  0.0004830939874074456 ... -1.1214928234952345e-05  0.00017524384353854864\n",
       " 0.05647814437682584  58257.17361350978  0.0018158013482646564 ...   8.482268269024053e-05  0.00010893781930430554\n",
       " 0.05704765622053076   58368.8558056228  0.0017825531713776771 ...   5.568901644668858e-06    0.000229329334928001\n",
       " 0.08051997416017473  58384.62815558211 0.00047382614003165565 ...                    -1.0                    -1.0\n",
       " 0.03170522341320423  58395.05367153636    0.00302373698174962 ...   7.146960351484918e-05 -0.00016840287499386212\n",
       " 0.09701056376486197 58369.100109815445  0.0002689194200273108 ...   0.0017577284708249947   0.0017738213601509836\n",
       "  0.0943855011041209  58312.11253352787   0.000527192213331148 ...   0.0005939434237475269  -0.0005407810676724968\n",
       "0.037040640560895226 58330.123123477504  0.0023210322198522143 ...  0.00012948362704168475   0.0003470050357764461\n",
       " 0.06644118262886411 58312.958531099524  0.0007043810013453456 ... -0.00027144378558781557  0.00027547715936391144\n",
       " 0.05178319321252998  58449.78215233331  0.0016153362379004903 ...    0.008874003071108062     0.01565974551550248\n",
       " 0.07570979904719469  58373.49764904732  0.0005627610190115056 ...                    -1.0                    -1.0\n",
       " 0.09383973756855679  58375.27338700261 0.00045993329646925934 ...  0.00020362809096830488   0.0004449112614752576\n",
       " 0.08080849002255003  58449.00279572508  0.0005646088031338556 ...  -0.0009348644630493757   0.0005097644666269681\n",
       " 0.06540623100701602  58255.78420090594   0.001559375003868057 ...   0.0002813739808117997   0.0004014278896114429\n",
       " 0.06089645262509056  58391.67528695278  0.0012032882438746532 ...  -7.318583529926538e-05  -7.578743972253264e-05\n",
       " 0.08667840280196659  58274.46532453318 0.00045323701734174344 ...                    -1.0                    -1.0\n",
       " 0.04070773071537651 58315.076842268994  0.0023496685048931642 ...  -0.0022629862362984884   0.0019160086561966084\n",
       " 0.06011245156057485 58282.427165118235  0.0008989499671543145 ...    0.001089510932347398   0.0003175352309134069\n",
       " 0.08816832998515786  58290.75364176324 0.00037609476645415453 ...   5.737939456400573e-05  0.00010920033369652729\n",
       "                 ...                ...                    ... ...                     ...                     ...\n",
       " 0.07462650330726706 58315.812977720154 0.00034883196394212504 ...   -0.001189819862002359  -0.0011803603291038085\n",
       " 0.08654394789698427  58326.62681671793 0.00040480572340934653 ...  -0.0008599503628437721    0.001104108787487941\n",
       "   0.082055022460183  58276.52417037848   0.000656335227654673 ...  4.0121584684238475e-05   6.000150724613587e-05\n",
       " 0.08570679493357897  58398.16829573038  0.0003473342373450945 ...   -0.000532556443373416   7.056755576838443e-05\n",
       "  0.0815791880289271  58364.81405271648  0.0004392527424366566 ...   0.0007961631518933537   0.0008609731804470947\n",
       " 0.03727810322582215  58289.01184732543   0.003434436211317723 ...  -2.888626702453043e-05   0.0008782850388759189\n",
       "0.033337116945024295  58319.77364930322   0.003545129371607024 ...   2.397282314193717e-05   7.243666074075575e-05\n",
       " 0.06589441523088672 58298.660495318225    0.00091276102063087 ...  0.00046255385122992367   0.0004591531620869957\n",
       "0.041862584566235095 58399.714647296845  0.0018253162130530095 ...  -0.0005381226104488355   0.0025294238139221196\n",
       " 0.07894652277724562  58353.57201469495 0.00038830580387992994 ... -0.00034717976151222527   0.0015545994235275189\n",
       "0.057861706361954444   58305.8152082313  0.0008239295866418918 ...   0.0005523743147581863   0.0009992783065045096\n",
       "  0.0792114058061697 58327.238473099416  0.0005660137119928651 ... -0.00023327557214758833     0.00254391119188905\n",
       " 0.07919584338082095  58330.76607307906  0.0009554242176352582 ...   5.569048949331142e-06   8.083943762668424e-05\n",
       " 0.06581868420017553 58346.416989517515  0.0014850791558303634 ...  1.7743955014456564e-05  4.4812066580159955e-05\n",
       " 0.06688017900127598  58452.96090740257   0.002230365222052583 ...   0.0008031659156639401   0.0015737001402724923\n",
       " 0.06952024634062683 58215.064381430835  0.0009450351761023221 ...   -0.002271719520929969    0.004189623037553829\n",
       "0.056298645016721896 58305.966858929554  0.0011308541395864456 ... -1.3334979523937255e-05  4.9465259530060726e-05\n",
       "  0.0815174820126027 58326.092343482254   0.000585352152678766 ... -4.0235857094824005e-05  5.1282706454095944e-06\n",
       " 0.09374185432062188 58300.548150801515  0.0002968708078287458 ...   0.0020924453669487193   0.0008553603890059034\n",
       " 0.07934910126601674  58365.21450550113  0.0004110911090908878 ...   0.0003690039822787465   0.0002855947279583536\n",
       "  0.0569116081518727  58218.12513082557  0.0015582726798862323 ...   3.785801724211896e-05    0.003958242290610168"
      ]
     },
     "execution_count": 6,
     "metadata": {},
     "output_type": "execute_result"
    }
   ],
   "source": [
    "class_meta = Read_LightCurve(file_name='meta_fitted.hdf5', inputDir='ZTF/dataLC')\n",
    "new_read_meta = class_meta.Read_file(path='meta')\n",
    "new_read_meta"
   ]
  },
  {
   "cell_type": "markdown",
   "id": "c54249f0",
   "metadata": {},
   "source": [
    "# Histogram fitted parameters"
   ]
  },
  {
   "cell_type": "code",
   "execution_count": 7,
   "id": "16654446",
   "metadata": {
    "scrolled": false
   },
   "outputs": [
    {
     "name": "stdout",
     "output_type": "stream",
     "text": [
      "moyenne z_fit = 0.06783128942792849\n",
      "équart type z_fit = 0.020183559364839367\n",
      "moyenne x0_fit = 0.0013595146962474688\n",
      "équart type x0_fit = 0.004085032819341223\n",
      "moyenne x1_fit = -0.019879823926822474\n",
      "équart type x1_fit = 0.9570219824653685\n",
      "moyenne c_fit = 0.08975163084523526\n",
      "équart type c_fit = 0.17131189930912163\n",
      "moyenne t0_fit = 58331.16418096673\n",
      "équart type t0_fit = 61.43793489937908\n"
     ]
    },
    {
     "data": {
      "image/png": "[encoded data removed]",
      "text/plain": [
       "<Figure size 720x576 with 6 Axes>"
      ]
     },
     "metadata": {
      "needs_background": "light"
     },
     "output_type": "display_data"
    }
   ],
   "source": [
    "import matplotlib.pylab as plt\n",
    "import numpy as np\n",
    "\n",
    "var = ['z_fit', 'x0_fit', 'x1_fit', 'c_fit', 't0_fit']\n",
    "dico = dict(zip(var, [(0,0), (0,1), (1,0), (1,1), (2,0)]))\n",
    "\n",
    "fig, axs = plt.subplots(3, 2, figsize=(10,8))\n",
    "for variables in var :\n",
    "    ipos = dico[variables][0]\n",
    "    jpos = dico[variables][1]\n",
    "    \n",
    "    mask = new_read_meta[variables] != -1\n",
    "     \n",
    "    axs[ipos, jpos].hist(new_read_meta[variables][mask], alpha = 0.3)\n",
    "    axs[ipos, jpos].set_title('Histo var {}'.format(variables))\n",
    "    \n",
    "    print('moyenne {} ='.format(variables), np.mean(new_read_meta[variables][mask]))\n",
    "    print('équart type {} ='.format(variables), np.std(new_read_meta[variables][mask]))"
   ]
  },
  {
   "cell_type": "markdown",
   "id": "8be48e11",
   "metadata": {},
   "source": [
    "# Histogram : (param_simu - param_fit)/param_err"
   ]
  },
  {
   "cell_type": "code",
   "execution_count": 8,
   "id": "49dc98a9",
   "metadata": {},
   "outputs": [],
   "source": [
    "def diff(param_simu, param_fit, param_err, new_read_meta):\n",
    "    diff_ = []\n",
    "    for i, row in enumerate(new_read_meta):\n",
    "        if row[param_fit] == -1:\n",
    "            diff_.append(-1)\n",
    "        else:\n",
    "            p_simu = row[param_simu]\n",
    "            p_fit = row[param_fit]\n",
    "            p_err = row[param_err]\n",
    "            diff_.append((p_simu-p_fit)/p_err)\n",
    "    return diff_"
   ]
  },
  {
   "cell_type": "code",
   "execution_count": 9,
   "id": "d7a4dca8",
   "metadata": {
    "scrolled": true
   },
   "outputs": [],
   "source": [
    "param_simu = ['z', 'x0', 'x1', 'c', 't0']\n",
    "param_fit = ['z_fit', 'x0_fit', 'x1_fit', 'c_fit', 't0_fit']\n",
    "param_err = ['z_err', 'x0_err', 'x1_err', 'c_err', 't0_err']\n",
    "diff_name = ['diff_z', 'diff_x0', 'diff_x1', 'diff_c', 'diff_t0']\n",
    "\n",
    "meta_new = new_read_meta.copy()\n",
    "for i in range(0, len(param_simu)):\n",
    "    t = diff(param_simu[i], param_fit[i], param_err[i], meta_new)\n",
    "    meta_new.add_column(t, name=diff_name[i])\n",
    "#meta_new"
   ]
  },
  {
   "cell_type": "code",
   "execution_count": 10,
   "id": "3e2be6f8",
   "metadata": {
    "scrolled": false
   },
   "outputs": [
    {
     "name": "stdout",
     "output_type": "stream",
     "text": [
      "diff_z / moyenne = 692.573827889976 / equart type = 6362.422823113639\n",
      "diff_x0 / moyenne = 33.92389282426064 / equart type = 72.5843670976847\n",
      "diff_x1 / moyenne = 0.15747027825725987 / equart type = 0.862882164695526\n",
      "diff_c / moyenne = -5.891579585680635 / equart type = 6.556093578794516\n",
      "diff_t0 / moyenne = -5.7829583312596515 / equart type = 73.63854242943907\n"
     ]
    },
    {
     "data": {
      "image/png": "[encoded data removed]",
      "text/plain": [
       "<Figure size 720x576 with 6 Axes>"
      ]
     },
     "metadata": {
      "needs_background": "light"
     },
     "output_type": "display_data"
    }
   ],
   "source": [
    "var_ = ['diff_z', 'diff_x0', 'diff_x1', 'diff_c', 'diff_t0']\n",
    "dico_ = dict(zip(var_, [(0,0), (0,1), (1,0), (1,1), (2,0)]))\n",
    "range_ = [(-1,5), (-5,50), (-2,2), (-16, 10), (0,3)]\n",
    "\n",
    "fig, axs = plt.subplots(3, 2, figsize=(10,8))\n",
    "for i, variables in enumerate(var_):\n",
    "    ipos = dico_[variables][0]\n",
    "    jpos = dico_[variables][1]\n",
    "    \n",
    "    mask = meta_new[variables] != -1\n",
    "    meta_new = meta_new[mask]\n",
    "    \n",
    "    axs[ipos, jpos].hist(meta_new[variables], alpha = 0.5) #range = range_[i]\n",
    "    axs[ipos, jpos].set_title('Histo var {}'.format(variables))\n",
    "    moy = np.mean(meta_new[variables])\n",
    "    ecarttype = np.std(meta_new[variables])\n",
    "    print(variables, '/ moyenne =', moy, '/ equart type =', ecarttype)"
   ]
  },
  {
   "cell_type": "markdown",
   "id": "97b0136c",
   "metadata": {},
   "source": [
    "# $X^{2}$ test"
   ]
  },
  {
   "cell_type": "code",
   "execution_count": 18,
   "id": "e9249150",
   "metadata": {},
   "outputs": [
    {
     "name": "stdout",
     "output_type": "stream",
     "text": [
      "moy = 1.0695735952127672\n"
     ]
    },
    {
     "data": {
      "image/png": "[encoded data removed]",
      "text/plain": [
       "<Figure size 576x432 with 1 Axes>"
      ]
     },
     "metadata": {
      "needs_background": "light"
     },
     "output_type": "display_data"
    }
   ],
   "source": [
    "mask = new_read_meta['chisq'] != -1\n",
    "new_read_meta = new_read_meta[mask]\n",
    "\n",
    "chi2 = new_read_meta['chisq']\n",
    "ndof = new_read_meta['ndof']\n",
    "test = chi2/ndof\n",
    "#testmask = test<30\n",
    "\n",
    "plt.figure(figsize=(8,6))\n",
    "plt.hist(test)\n",
    "print('moy =', np.mean(test))"
   ]
  },
  {
   "cell_type": "code",
   "execution_count": 15,
   "id": "b5ff3fe5",
   "metadata": {},
   "outputs": [],
   "source": [
    "#test[47]"
   ]
  },
  {
   "cell_type": "code",
   "execution_count": 16,
   "id": "fc687e03",
   "metadata": {},
   "outputs": [],
   "source": [
    "#new_read_meta[47]"
   ]
  },
  {
   "cell_type": "code",
   "execution_count": 17,
   "id": "a3499607",
   "metadata": {},
   "outputs": [],
   "source": [
    "#class_data = Read_LightCurve(file_name='data_simu.hdf5', inputDir='ZTF/dataLC')\n",
    "#lc = class_data.Read_file(path='SN_47')\n",
    "\n",
    "#class_ = SN_fit(lc)\n",
    "#class_.plot_sn()"
   ]
  },
  {
   "cell_type": "code",
   "execution_count": null,
   "id": "3047d6b1",
   "metadata": {},
   "outputs": [],
   "source": []
  }
 ],
 "metadata": {
  "kernelspec": {
   "display_name": "Python 3 (ipykernel)",
   "language": "python",
   "name": "python3"
  },
  "language_info": {
   "codemirror_mode": {
    "name": "ipython",
    "version": 3
   },
   "file_extension": ".py",
   "mimetype": "text/x-python",
   "name": "python",
   "nbconvert_exporter": "python",
   "pygments_lexer": "ipython3",
   "version": "3.9.7"
  }
 },
 "nbformat": 4,
 "nbformat_minor": 5
}
