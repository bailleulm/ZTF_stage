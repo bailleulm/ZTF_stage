{
 "cells": [
  {
   "cell_type": "code",
   "execution_count": 1,
   "id": "da88ca0f",
   "metadata": {},
   "outputs": [],
   "source": [
    "import h5py\n",
    "import ast\n",
    "from astropy.table import QTable, Table, Column, vstack\n",
    "import astropy.units as u\n",
    "import astropy\n",
    "%matplotlib inline\n",
    "%matplotlib notebook\n",
    "import pandas as pd\n",
    "import numpy as np\n",
    "import simsurvey\n",
    "import simsurvey_tools as sst\n",
    "import matplotlib.pylab as plt\n",
    "import pandas as pd\n",
    "import os\n",
    "from ZTF_hdf5 import Write_LightCurve, Read_LightCurve, Plot_LightCurve"
   ]
  },
  {
   "cell_type": "code",
   "execution_count": 2,
   "id": "108dd0e5",
   "metadata": {
    "scrolled": false
   },
   "outputs": [
    {
     "name": "stdout",
     "output_type": "stream",
     "text": [
      "Determining field IDs for all objects\n"
     ]
    },
    {
     "data": {
      "application/vnd.jupyter.widget-view+json": {
       "model_id": "21785437bc5f44bf9fff67c96261671d",
       "version_major": 2,
       "version_minor": 0
      },
      "text/plain": [
       "FloatProgress(value=0.0)"
      ]
     },
     "metadata": {},
     "output_type": "display_data"
    },
    {
     "name": "stdout",
     "output_type": "stream",
     "text": [
      "\n",
      "Generating lightcurves\n"
     ]
    },
    {
     "data": {
      "application/vnd.jupyter.widget-view+json": {
       "model_id": "925927b127a342bba93a2ed8ef8cb4fd",
       "version_major": 2,
       "version_minor": 0
      },
      "text/plain": [
       "FloatProgress(value=0.0)"
      ]
     },
     "metadata": {},
     "output_type": "display_data"
    },
    {
     "name": "stdout",
     "output_type": "stream",
     "text": [
      "\n",
      "5\n"
     ]
    }
   ],
   "source": [
    "home_dir = os.environ.get('HOME')\n",
    "sfd98_dir = os.path.join(home_dir, 'data/sfd98')\n",
    "sfd98_dir = '/Users/manon/ZTF/data/sfd98'\n",
    "\n",
    "fields = sst.load_ztf_fields()\n",
    "#sst.load_ztf_filters()\n",
    "ccds = sst.load_ztf_ccds(filename='data/ZTF_corners_rcid.txt', num_segs=64) #it's rcid\n",
    "#ccds = sst.load_ztf_ccds() #its' ccd\n",
    "\n",
    "obs = pd.read_csv('data/2018_all_logs_from_dr1_rcid_zp_from_masci.csv')\n",
    "obs[obs['rcid']==26]\n",
    "obs['field'] =obs['field'].astype('int64')\n",
    "obs['time'] = obs['time'] - 2400000.5\n",
    "\n",
    "plan = simsurvey.SurveyPlan(time=obs['time'], band=obs['band'], zp=obs['zp'], obs_field=obs['field'], obs_ccd=obs['rcid'],\n",
    "                            skynoise=obs['skynoise'], fields={k: v for k, v in fields.items() if k in \n",
    "                            ['ra', 'dec', 'field_id', 'width', 'height']}, ccds=ccds)\n",
    "\n",
    "z_range = (0.01, 0.1)\n",
    "dec_range = (-30, 90)\n",
    "mjd_range = (plan.cadence['time'].min()- 30, plan.cadence['time'].max() + 30) #\n",
    "# we  put a ra range as well\n",
    "ntransient = 11 # we can change the number of transientor the rate (by def  ntransient = len(redshifts))\n",
    "seed = 70 #we can fix teh seed\n",
    "\n",
    "tr = simsurvey.get_transient_generator(zrange=z_range, transient='Ia', template='salt2', dec_range=dec_range,\n",
    "                                       mjd_range=mjd_range, sfd98_dir=sfd98_dir, ntransient=ntransient, seed=seed)\n",
    "\n",
    "n_det = 10\n",
    "survey = simsurvey.SimulSurvey(generator=tr, plan=plan, n_det=n_det)\n",
    "\n",
    "lc_sn_default = survey.get_lightcurves(progress_bar=True, notebook=True) #simullc_func\n",
    "print(len(lc_sn_default.lcs))"
   ]
  },
  {
   "cell_type": "raw",
   "id": "4caaccd8",
   "metadata": {},
   "source": [
    "x,y = obs['ra'], obs['dec']\n",
    "fig, axs = plt.subplots(1, 1, figsize=(10,8))\n",
    "axs.scatter(x,y, marker = '+')"
   ]
  },
  {
   "cell_type": "code",
   "execution_count": 212,
   "id": "ba166129",
   "metadata": {
    "scrolled": false
   },
   "outputs": [
    {
     "name": "stdout",
     "output_type": "stream",
     "text": [
      "lc is not an astropy.table.table.Table type <class 'simsurvey.simulsurvey.LightcurveCollection'>\n",
      "OrderedDict([('directory', '/Users/manon/dataLC/Meta.hdf5'), ('file_name', 'Meta.dhf5')])\n"
     ]
    }
   ],
   "source": [
    "clas = Write_LightCurve()\n",
    "data = clas.write_data('Data', lc_sn_default)\n",
    "meta = clas.write_meta()\n",
    "meta"
   ]
  },
  {
   "cell_type": "code",
   "execution_count": 213,
   "id": "1cd09a2d",
   "metadata": {
    "scrolled": true
   },
   "outputs": [
    {
     "data": {
      "text/html": [
       "<div><i>Table length=33</i>\n",
       "<table id=\"table140654312035232\" class=\"table-striped table-bordered table-condensed\">\n",
       "<thead><tr><th>time</th><th>band</th><th>flux</th><th>fluxerr</th><th>zp</th><th>zpsys</th><th>field</th><th>ccd</th><th>comment</th></tr></thead>\n",
       "<thead><tr><th>float64</th><th>bytes4</th><th>float64</th><th>float64</th><th>float64</th><th>bytes2</th><th>int64</th><th>int64</th><th>bytes1</th></tr></thead>\n",
       "<tr><td>58198.41731479997</td><td>ztfr</td><td>-21.484466827564876</td><td>20.46585984561505</td><td>26.325</td><td>ab</td><td>430</td><td>7</td><td></td></tr>\n",
       "<tr><td>58198.459409699775</td><td>ztfr</td><td>-29.642261075747708</td><td>19.90810834703056</td><td>26.325</td><td>ab</td><td>430</td><td>7</td><td></td></tr>\n",
       "<tr><td>58203.343877300154</td><td>ztfg</td><td>-137.56552247158902</td><td>144.22149583657995</td><td>26.275</td><td>ab</td><td>430</td><td>7</td><td></td></tr>\n",
       "<tr><td>58203.35707180016</td><td>ztfg</td><td>-37.73515961802923</td><td>97.95576387368912</td><td>26.275</td><td>ab</td><td>430</td><td>7</td><td></td></tr>\n",
       "<tr><td>58206.44896990014</td><td>ztfg</td><td>9.880168958831122</td><td>40.46038357356532</td><td>26.275</td><td>ab</td><td>430</td><td>7</td><td></td></tr>\n",
       "<tr><td>...</td><td>...</td><td>...</td><td>...</td><td>...</td><td>...</td><td>...</td><td>...</td><td>...</td></tr>\n",
       "<tr><td>58275.2719676001</td><td>ztfg</td><td>37.881321037010345</td><td>14.0535423202123</td><td>26.275</td><td>ab</td><td>430</td><td>7</td><td></td></tr>\n",
       "<tr><td>58275.35569440015</td><td>ztfr</td><td>136.2265633610083</td><td>24.364214275283626</td><td>26.325</td><td>ab</td><td>430</td><td>7</td><td></td></tr>\n",
       "<tr><td>58278.2704977002</td><td>ztfr</td><td>135.6236645855769</td><td>32.4596874548094</td><td>26.325</td><td>ab</td><td>430</td><td>7</td><td></td></tr>\n",
       "<tr><td>58278.335532399826</td><td>ztfg</td><td>33.84815488710699</td><td>16.1939667458997</td><td>26.275</td><td>ab</td><td>430</td><td>7</td><td></td></tr>\n",
       "<tr><td>58281.20932869986</td><td>ztfr</td><td>117.02685828717665</td><td>21.337255300742505</td><td>26.325</td><td>ab</td><td>430</td><td>7</td><td></td></tr>\n",
       "<tr><td>58281.25444439985</td><td>ztfg</td><td>26.331337740369463</td><td>19.188618571480088</td><td>26.275</td><td>ab</td><td>430</td><td>7</td><td></td></tr>\n",
       "</table></div>"
      ],
      "text/plain": [
       "<Table length=33>\n",
       "       time         band          flux        ... field  ccd  comment\n",
       "     float64       bytes4       float64       ... int64 int64  bytes1\n",
       "------------------ ------ ------------------- ... ----- ----- -------\n",
       " 58198.41731479997   ztfr -21.484466827564876 ...   430     7        \n",
       "58198.459409699775   ztfr -29.642261075747708 ...   430     7        \n",
       "58203.343877300154   ztfg -137.56552247158902 ...   430     7        \n",
       " 58203.35707180016   ztfg  -37.73515961802923 ...   430     7        \n",
       " 58206.44896990014   ztfg   9.880168958831122 ...   430     7        \n",
       "               ...    ...                 ... ...   ...   ...     ...\n",
       "  58275.2719676001   ztfg  37.881321037010345 ...   430     7        \n",
       " 58275.35569440015   ztfr   136.2265633610083 ...   430     7        \n",
       "  58278.2704977002   ztfr   135.6236645855769 ...   430     7        \n",
       "58278.335532399826   ztfg   33.84815488710699 ...   430     7        \n",
       " 58281.20932869986   ztfr  117.02685828717665 ...   430     7        \n",
       " 58281.25444439985   ztfg  26.331337740369463 ...   430     7        "
      ]
     },
     "execution_count": 213,
     "metadata": {},
     "output_type": "execute_result"
    }
   ],
   "source": [
    "clas2 = Read_LightCurve(file_name='Data.hdf5')\n",
    "read_data = clas2.Read_file(path='SN_1')\n",
    "read_data"
   ]
  },
  {
   "cell_type": "code",
   "execution_count": 336,
   "id": "b6d91a99",
   "metadata": {},
   "outputs": [],
   "source": [
    "import csv\n",
    "from astropy.table import Table\n",
    "home_dir = os.environ.get('HOME')\n",
    "folder_dir = os.path.join(home_dir, 'dataLC/Selection_tab.csv')\n",
    "folder_dir2 = os.path.join(home_dir, 'dataLC/str_tab.csv')\n",
    "\n",
    "table = Table.read(folder_dir) #Lecture du fichier csv\n",
    "table_str = Table.read(folder_dir2) #Lecture du fichier csv"
   ]
  },
  {
   "cell_type": "code",
   "execution_count": 337,
   "id": "f719651b",
   "metadata": {},
   "outputs": [
    {
     "data": {
      "text/html": [
       "<div><i>Table length=2</i>\n",
       "<table id=\"table140654313060480\" class=\"table-striped table-bordered table-condensed\">\n",
       "<thead><tr><th>col</th><th>lim_col</th><th>op1</th><th>seuil</th><th>name_selec</th></tr></thead>\n",
       "<thead><tr><th>str4</th><th>str4</th><th>str11</th><th>int64</th><th>str7</th></tr></thead>\n",
       "<tr><td>band</td><td>ztfr</td><td>operator.eq</td><td>0</td><td>nb_ztfr</td></tr>\n",
       "<tr><td>band</td><td>ztfg</td><td>operator.eq</td><td>0</td><td>nb_ztfg</td></tr>\n",
       "</table></div>"
      ],
      "text/plain": [
       "<Table length=2>\n",
       "col  lim_col     op1     seuil name_selec\n",
       "str4   str4     str11    int64    str7   \n",
       "---- ------- ----------- ----- ----------\n",
       "band    ztfr operator.eq     0    nb_ztfr\n",
       "band    ztfg operator.eq     0    nb_ztfg"
      ]
     },
     "execution_count": 337,
     "metadata": {},
     "output_type": "execute_result"
    }
   ],
   "source": [
    "table_str"
   ]
  },
  {
   "cell_type": "code",
   "execution_count": 338,
   "id": "7428576d",
   "metadata": {
    "scrolled": true
   },
   "outputs": [],
   "source": [
    "import operator\n",
    "def selec_phase(Tab, csvFile, Verbose=False):\n",
    "    \n",
    "    if csvFile['col'] not in Tab.colnames:\n",
    "        print('This column doesnt exist') \n",
    "    \n",
    "    else:\n",
    "        col = csvFile['col']\n",
    "        op = eval(csvFile['op1'])\n",
    "        lim = csvFile['lim_col']\n",
    "    \n",
    "        mask = op(Tab[col], lim)\n",
    "        Tab = Tab[mask]\n",
    "    \n",
    "    if Verbose:\n",
    "        print('len Tab :', len(Tab))\n",
    "    \n",
    "    return len(Tab)"
   ]
  },
  {
   "cell_type": "code",
   "execution_count": 339,
   "id": "b341273f",
   "metadata": {},
   "outputs": [],
   "source": [
    "def selec(Tab, csvFile, limSNR, Verbose=False,  Plot=False, selec=False):\n",
    "    \n",
    "    SNR = Tab['flux'] / Tab['fluxerr']\n",
    "    phase = (Tab['time'] - Tab.meta['t0']) / (1-Tab.meta['z'])\n",
    "    Tab.add_columns([SNR, phase], names=['SNR', 'phase'])\n",
    "    mask_SNR = Tab['SNR'] >= limSNR\n",
    "    Tab = Tab[mask_SNR]\n",
    "    res = 1\n",
    "    \n",
    "    \n",
    "    if Verbose:\n",
    "        print('min :', np.min(Tab['phase']), 'max :', np.max(Tab['phase']))\n",
    "    if Plot:\n",
    "        x = Tab['phase']\n",
    "        y = Tab['flux']\n",
    "\n",
    "        fig, axs = plt.subplots(1, 1, figsize=(10,8))\n",
    "        axs.plot(x,y,marker = '*')\n",
    "    \n",
    "    if not selec :\n",
    "        selec = []    \n",
    "        for i, row in enumerate(csvFile):\n",
    "            len_tab = selec_phase(Tab, row)\n",
    "            if res:\n",
    "                res &= operator.ge(len_tab, row['seuil'])\n",
    "                selec.append(row['name_selec'])\n",
    "            if not res:\n",
    "                break\n",
    "        return selec, res\n",
    "    else:\n",
    "        return Tab"
   ]
  },
  {
   "cell_type": "code",
   "execution_count": 359,
   "id": "3881a664",
   "metadata": {},
   "outputs": [
    {
     "name": "stdout",
     "output_type": "stream",
     "text": [
      "[[ 14  29   2   1]\n",
      " [  3  11   1   4]\n",
      " [  0 144   0  64]\n",
      " [  6  11   0   6]\n",
      " [ 14  48   2   9]] 5\n"
     ]
    },
    {
     "data": {
      "text/html": [
       "<div><i>Table length=5</i>\n",
       "<table id=\"table140654326275376\" class=\"table-striped table-bordered table-condensed\">\n",
       "<thead><tr><th>z</th><th>t0</th><th>x0</th><th>x1</th><th>c</th><th>mwebv</th><th>ra</th><th>dec</th><th>mwebv_sfd98</th><th>idx_orig</th><th>path</th><th>nb_phase&lt;0</th><th>nb_phase&gt;0</th><th>nb_phase&lt;-10</th><th>nb_phase&gt;20</th></tr></thead>\n",
       "<thead><tr><th>float64</th><th>float64</th><th>float64</th><th>float64</th><th>float64</th><th>float64</th><th>float64</th><th>float64</th><th>float64</th><th>int64</th><th>bytes4</th><th>int64</th><th>int64</th><th>int64</th><th>int64</th></tr></thead>\n",
       "<tr><td>0.09545085017442173</td><td>58371.817850549065</td><td>0.0002771357912699138</td><td>-0.62548765619564</td><td>0.08991019018243052</td><td>0.144720279260781</td><td>352.06966274388003</td><td>44.524529678477535</td><td>0.14370772544891622</td><td>1</td><td>SN_0</td><td>14</td><td>29</td><td>2</td><td>1</td></tr>\n",
       "<tr><td>0.052395678566137256</td><td>58231.201247162135</td><td>0.0011922258089010543</td><td>-2.6676509956069445</td><td>-0.03448578174354965</td><td>0.2748790046966661</td><td>242.8963714073767</td><td>-5.72510622133645</td><td>0.2746621642499891</td><td>5</td><td>SN_1</td><td>3</td><td>11</td><td>1</td><td>4</td></tr>\n",
       "<tr><td>0.07527202479792483</td><td>58421.5335325382</td><td>0.0005445907219979513</td><td>-0.2915194225651692</td><td>0.09710010223419693</td><td>0.028955382485282188</td><td>122.88362397997601</td><td>72.3087518839699</td><td>0.021226937444662287</td><td>7</td><td>SN_2</td><td>0</td><td>144</td><td>0</td><td>64</td></tr>\n",
       "<tr><td>0.07864194667329098</td><td>58210.721340815704</td><td>0.0008432786739296758</td><td>-0.1441809256096224</td><td>-0.07964318534293403</td><td>0.028054051979465203</td><td>175.80441899319186</td><td>2.7920990514452346</td><td>0.017430438951182806</td><td>8</td><td>SN_3</td><td>6</td><td>11</td><td>0</td><td>6</td></tr>\n",
       "<tr><td>0.07636610797218073</td><td>58273.41723662111</td><td>0.0004897470345753179</td><td>-0.9579709291843637</td><td>0.07850842542752962</td><td>0.027115198698569112</td><td>190.470983126126</td><td>13.051813235586533</td><td>0.023295795365418693</td><td>9</td><td>SN_4</td><td>14</td><td>48</td><td>2</td><td>9</td></tr>\n",
       "</table></div>"
      ],
      "text/plain": [
       "<Table length=5>\n",
       "         z                   t0                   x0          ... nb_phase>0 nb_phase<-10 nb_phase>20\n",
       "      float64             float64              float64        ...   int64       int64        int64   \n",
       "-------------------- ------------------ --------------------- ... ---------- ------------ -----------\n",
       " 0.09545085017442173 58371.817850549065 0.0002771357912699138 ...         29            2           1\n",
       "0.052395678566137256 58231.201247162135 0.0011922258089010543 ...         11            1           4\n",
       " 0.07527202479792483   58421.5335325382 0.0005445907219979513 ...        144            0          64\n",
       " 0.07864194667329098 58210.721340815704 0.0008432786739296758 ...         11            0           6\n",
       " 0.07636610797218073  58273.41723662111 0.0004897470345753179 ...         48            2           9"
      ]
     },
     "execution_count": 359,
     "metadata": {},
     "output_type": "execute_result"
    }
   ],
   "source": [
    "class_meta = Read_LightCurve(file_name='Meta.hdf5')\n",
    "read_meta = class_meta.Read_file(path='meta')\n",
    "\n",
    "csvTab = table\n",
    "rtot = []\n",
    "rb = csvTab['name_selec']   \n",
    "for i, row in enumerate(read_meta):\n",
    "    Tab = selec(lc_sn_default[i], csvTab, 5, selec=True)\n",
    "    r = []\n",
    "    for i, rowb in enumerate(csvTab):\n",
    "        nb = selec_phase(Tab, rowb)\n",
    "        r.append(nb)\n",
    "    rtot.append(r)\n",
    "\n",
    "rtot = np.array(rtot)\n",
    "print(rtot, len(rtot))\n",
    "\n",
    "for i in range(0,len(rtot[0])):\n",
    "    line = [row[i] for row in rtot]\n",
    "    c = Column(line)\n",
    "    read_meta.add_column(c, name=rb[i])\n",
    "read_meta"
   ]
  },
  {
   "cell_type": "code",
   "execution_count": 360,
   "id": "14059d53",
   "metadata": {},
   "outputs": [
    {
     "name": "stdout",
     "output_type": "stream",
     "text": [
      "SN_0 (['nb_phase<0', 'nb_phase>0', 'nb_phase<-10', 'nb_phase>20'], 1)\n",
      "SN_1 (['nb_phase<0'], 0)\n",
      "SN_2 (['nb_phase<0'], 0)\n",
      "SN_3 (['nb_phase<0', 'nb_phase>0', 'nb_phase<-10'], 0)\n",
      "SN_4 (['nb_phase<0', 'nb_phase>0', 'nb_phase<-10', 'nb_phase>20'], 1)\n"
     ]
    },
    {
     "data": {
      "text/html": [
       "<div><i>Table length=5</i>\n",
       "<table id=\"table140654326275376\" class=\"table-striped table-bordered table-condensed\">\n",
       "<thead><tr><th>z</th><th>t0</th><th>x0</th><th>x1</th><th>c</th><th>mwebv</th><th>ra</th><th>dec</th><th>mwebv_sfd98</th><th>idx_orig</th><th>path</th><th>nb_phase&lt;0</th><th>nb_phase&gt;0</th><th>nb_phase&lt;-10</th><th>nb_phase&gt;20</th><th>pass selec</th></tr></thead>\n",
       "<thead><tr><th>float64</th><th>float64</th><th>float64</th><th>float64</th><th>float64</th><th>float64</th><th>float64</th><th>float64</th><th>float64</th><th>int64</th><th>bytes4</th><th>int64</th><th>int64</th><th>int64</th><th>int64</th><th>int64</th></tr></thead>\n",
       "<tr><td>0.09545085017442173</td><td>58371.817850549065</td><td>0.0002771357912699138</td><td>-0.62548765619564</td><td>0.08991019018243052</td><td>0.144720279260781</td><td>352.06966274388003</td><td>44.524529678477535</td><td>0.14370772544891622</td><td>1</td><td>SN_0</td><td>14</td><td>29</td><td>2</td><td>1</td><td>1</td></tr>\n",
       "<tr><td>0.052395678566137256</td><td>58231.201247162135</td><td>0.0011922258089010543</td><td>-2.6676509956069445</td><td>-0.03448578174354965</td><td>0.2748790046966661</td><td>242.8963714073767</td><td>-5.72510622133645</td><td>0.2746621642499891</td><td>5</td><td>SN_1</td><td>3</td><td>11</td><td>1</td><td>4</td><td>0</td></tr>\n",
       "<tr><td>0.07527202479792483</td><td>58421.5335325382</td><td>0.0005445907219979513</td><td>-0.2915194225651692</td><td>0.09710010223419693</td><td>0.028955382485282188</td><td>122.88362397997601</td><td>72.3087518839699</td><td>0.021226937444662287</td><td>7</td><td>SN_2</td><td>0</td><td>144</td><td>0</td><td>64</td><td>0</td></tr>\n",
       "<tr><td>0.07864194667329098</td><td>58210.721340815704</td><td>0.0008432786739296758</td><td>-0.1441809256096224</td><td>-0.07964318534293403</td><td>0.028054051979465203</td><td>175.80441899319186</td><td>2.7920990514452346</td><td>0.017430438951182806</td><td>8</td><td>SN_3</td><td>6</td><td>11</td><td>0</td><td>6</td><td>0</td></tr>\n",
       "<tr><td>0.07636610797218073</td><td>58273.41723662111</td><td>0.0004897470345753179</td><td>-0.9579709291843637</td><td>0.07850842542752962</td><td>0.027115198698569112</td><td>190.470983126126</td><td>13.051813235586533</td><td>0.023295795365418693</td><td>9</td><td>SN_4</td><td>14</td><td>48</td><td>2</td><td>9</td><td>1</td></tr>\n",
       "</table></div>"
      ],
      "text/plain": [
       "<Table length=5>\n",
       "         z                   t0                   x0          ... nb_phase<-10 nb_phase>20 pass selec\n",
       "      float64             float64              float64        ...    int64        int64      int64   \n",
       "-------------------- ------------------ --------------------- ... ------------ ----------- ----------\n",
       " 0.09545085017442173 58371.817850549065 0.0002771357912699138 ...            2           1          1\n",
       "0.052395678566137256 58231.201247162135 0.0011922258089010543 ...            1           4          0\n",
       " 0.07527202479792483   58421.5335325382 0.0005445907219979513 ...            0          64          0\n",
       " 0.07864194667329098 58210.721340815704 0.0008432786739296758 ...            0           6          0\n",
       " 0.07636610797218073  58273.41723662111 0.0004897470345753179 ...            2           9          1"
      ]
     },
     "execution_count": 360,
     "metadata": {},
     "output_type": "execute_result"
    }
   ],
   "source": [
    "R, sel_list = [], []\n",
    "\n",
    "for i, path in enumerate(read_meta['path']):\n",
    "    class_data = Read_LightCurve(file_name='Data.hdf5')\n",
    "    lc = class_data.Read_file(path=path)\n",
    "    sel = selec(lc, csvTab, limSNR=5, Verbose=False, Plot=False)\n",
    "    R.append(sel[1])\n",
    "    sel_list.append(list(sel[0]))\n",
    "    print(path, sel)\n",
    "    \n",
    "pass_selec = Column(R)\n",
    "read_meta.add_column(pass_selec, name = 'pass selec')\n",
    "read_meta"
   ]
  }
 ],
 "metadata": {
  "kernelspec": {
   "display_name": "Python 3 (ipykernel)",
   "language": "python",
   "name": "python3"
  },
  "language_info": {
   "codemirror_mode": {
    "name": "ipython",
    "version": 3
   },
   "file_extension": ".py",
   "mimetype": "text/x-python",
   "name": "python",
   "nbconvert_exporter": "python",
   "pygments_lexer": "ipython3",
   "version": "3.9.7"
  }
 },
 "nbformat": 4,
 "nbformat_minor": 5
}
